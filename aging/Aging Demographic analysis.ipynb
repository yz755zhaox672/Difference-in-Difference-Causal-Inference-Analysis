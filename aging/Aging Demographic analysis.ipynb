{
 "cells": [
  {
   "cell_type": "markdown",
   "id": "a710eb21-7b57-477b-bccd-dc62d12e6bc2",
   "metadata": {},
   "source": [
    "# Demographic Analysis for Aging extract"
   ]
  },
  {
   "cell_type": "markdown",
   "id": "4d703d3a-3788-41f1-918d-0ee78adc8b9f",
   "metadata": {},
   "source": [
    "# Notebook description\n",
    "In this notebook we perform univariate demographic analysis on Aging. This notebook presents analysis of the univariate demographics. It includes statistical measures such as mean and standard deviation for numerical variables, as well as value counts (n) and percentage counts (%) for categorical variables. "
   ]
  },
  {
   "cell_type": "markdown",
   "id": "9284aa4f-f818-44a6-8e81-6d724f74b5a3",
   "metadata": {},
   "source": [
    "Statistical tests used:\n",
    "1. Chi-squared test of independence  \n",
    "For categorical variables  \n",
    "The Chi-squared test assumes that categorical variables should have at least five instances in each category of the data.  \n",
    "To adhere to the chi-squared test, categories with fewer than 5 instances in a categorical variable will be excluded from the analysis.\n",
    "2. Mann Whitney test  \n",
    "For numerical variables  \n",
    "Non-parametric test  \n",
    "Normality and homogeneity of variance are not necessary assumptions for the Mann-Whitney U test.\n",
    "\n",
    "Assumptions:\n",
    "1. Alpha or significance level: 0.05"
   ]
  },
  {
   "cell_type": "markdown",
   "id": "226c2b59-8e42-4075-a525-321429972c97",
   "metadata": {},
   "source": [
    "# Input data"
   ]
  },
  {
   "cell_type": "code",
   "execution_count": 1,
   "id": "e503dec8-c356-4e98-97e9-0cf532df9b36",
   "metadata": {},
   "outputs": [],
   "source": [
    "import pandas as pd\n",
    "import numpy as np\n",
    "import math\n",
    "import seaborn as sns\n",
    "import matplotlib.pylab\n",
    "from scipy import stats\n",
    "from datetime import date\n",
    "from statsmodels.iolib.table import SimpleTable\n",
    "from scipy.stats import chi2_contingency\n",
    "import textwrap\n",
    "\n",
    "pd.set_option('display.max_columns', 700)"
   ]
  },
  {
   "cell_type": "markdown",
   "id": "ae669374-955e-41ab-a6f8-93a6e97f69c0",
   "metadata": {},
   "source": [
    "# Read data (only qualified data)"
   ]
  },
  {
   "cell_type": "markdown",
   "id": "ba382689-36a5-4fcd-9b80-c79f2755b363",
   "metadata": {},
   "source": [
    "Filter only qualified data for the demographics analysis"
   ]
  },
  {
   "cell_type": "code",
   "execution_count": 2,
   "id": "46cf7748-8c79-4982-9ab1-edbf6733c2cc",
   "metadata": {},
   "outputs": [
    {
     "name": "stderr",
     "output_type": "stream",
     "text": [
      "/opt/conda/envs/hillsadvancedml_envi/lib/python3.7/site-packages/IPython/core/interactiveshell.py:3258: DtypeWarning: Columns (640,642,646,653) have mixed types.Specify dtype option on import or set low_memory=False.\n",
      "  interactivity=interactivity, compiler=compiler, result=result)\n"
     ]
    }
   ],
   "source": [
    "data_nopop = pd.read_csv(\"gs://hpn_cte_advanced_stats_data_repository/yahui_data_repository/Aging 202312/AGING_DATA_EXTRACT__NEW_NQSD_20231214.csv\")\n",
    "population = pd.read_csv(\"gs://hpn_cte_advanced_stats_data_repository/yahui_data_repository/Aging 202312/population_updates_20231214.csv\")"
   ]
  },
  {
   "cell_type": "code",
   "execution_count": 3,
   "id": "bcc26d30-bc32-4c1b-aaf0-da9e5e104cb2",
   "metadata": {},
   "outputs": [],
   "source": [
    "data = pd.merge(data_nopop, population, on=['PET_ID'], how='left')"
   ]
  },
  {
   "cell_type": "code",
   "execution_count": 4,
   "id": "d6a5773e-55d3-42b7-9a0a-c7369a0875fa",
   "metadata": {},
   "outputs": [],
   "source": [
    "data1 = data[data['IS_QUALIFIED_NEW']=='YES']"
   ]
  },
  {
   "cell_type": "code",
   "execution_count": 5,
   "id": "8ee4d5ab-95c4-4e9f-a177-8c8880ef228a",
   "metadata": {},
   "outputs": [
    {
     "data": {
      "text/plain": [
       "Index(['questionnaire_itt_extract', 'walking_900', 'running_900', 'active_900',\n",
       "       'walking_300', 'running_300', 'active_300', 'walking_60', 'running_60',\n",
       "       'active_60', 'longest_running_event', 'longest_walking_event',\n",
       "       'active_periods_count_rolling', 'most_common_hour_rolling',\n",
       "       'active_periods_count_fixed', 'most_common_hour_fixed', 'patient_id',\n",
       "       'dog_and_owner_name', 'study_food', 'weight', 'mixed_breed', 'intact',\n",
       "       'sex', 'date_of_birth', 'baseline_mean_soft_stiction',\n",
       "       'treatment_mean_soft_stiction', 'IS_QUALIFIED_NEW',\n",
       "       'Qualifying_Data_Day_NEW', 'NORMALIZED_QUALIFYING_STUDY_DAY_NEW',\n",
       "       'wearables_itt', 'wearables_pp', 'wearables_itt_extract',\n",
       "       'wearables_pp_extract', 'itt_failure_reason', 'pp_failure_reason'],\n",
       "      dtype='object')"
      ]
     },
     "execution_count": 5,
     "metadata": {},
     "output_type": "execute_result"
    }
   ],
   "source": [
    "data1.columns[-35:]"
   ]
  },
  {
   "cell_type": "markdown",
   "id": "336371c1-2b4d-4431-9f65-0032f8b2d008",
   "metadata": {},
   "source": [
    "# Demographics mapper"
   ]
  },
  {
   "cell_type": "code",
   "execution_count": 6,
   "id": "18b894a6-47bb-4a85-95de-c56e35f13c0f",
   "metadata": {},
   "outputs": [],
   "source": [
    "demographics_variable_list = \\\n",
    "{\n",
    "    \"DEMOGRAPHICS-gender\": 'Gender',\n",
    "    \"DEMOGRAPHICS-day0_age\":'Day 0 age',\n",
    "    \"weight\": 'Day 0 body weight',\n",
    "    \"sitename\": 'Site',\n",
    "    \"MEDICATION - medication\": 'Baseline period pain medications',\n",
    "    \"OWNER_DAILY_DAIRY - total_amount_time_walked\": 'Owner Daily Diary',\n",
    "    'IS_WEEKEND': 'weekend vs. weekday'\n",
    "    \n",
    "}"
   ]
  },
  {
   "cell_type": "markdown",
   "id": "e6c58b89-f41e-4688-a7db-a9263d99ecce",
   "metadata": {},
   "source": [
    "# Helper functions"
   ]
  },
  {
   "cell_type": "markdown",
   "id": "fdf165f3-d4a2-4056-8d80-e02c901db2fb",
   "metadata": {},
   "source": [
    "## Statistical for numerical & categorical (together)"
   ]
  },
  {
   "cell_type": "code",
   "execution_count": 7,
   "id": "fb372aaa-a461-442e-9bb4-5d41a9fd27b1",
   "metadata": {},
   "outputs": [],
   "source": [
    "def statistics_numerical_categorical(data, attribute_name, numerical_col, categorical_col): \n",
    "    mean = data[numerical_col].mean()\n",
    "    std = data[numerical_col].std()\n",
    "    \n",
    "    value_counts_abs = data[categorical_col].value_counts()\n",
    "    value_counts_norm = data[categorical_col].value_counts(normalize=True)\n",
    "    \n",
    "    abs_val_counts_df = pd.DataFrame(value_counts_abs).T.reset_index(drop=True).rename(index={0: attribute_name}).round(2)\n",
    "    abs_val_counts_df.columns = [x+' (n)' for x in abs_val_counts_df.columns]\n",
    "    \n",
    "    norm_val_counts_df = pd.DataFrame(value_counts_norm).T.reset_index(drop=True).rename(index={0: attribute_name}).round(2)\n",
    "    norm_val_counts_df.columns = [x+' (%)' for x in norm_val_counts_df.columns]\n",
    "    \n",
    "    numerical_df = pd.DataFrame({\"mean\":mean,\n",
    "                                 \"std\":std},\n",
    "                                index=[attribute_name]).round(2)\n",
    "    \n",
    "    numerical_cat_merge_df = pd.merge(numerical_df,\n",
    "                                        abs_val_counts_df,\n",
    "                                        left_index=True,right_index=True)\n",
    "    numerical_cat_merge_df = pd.merge(numerical_cat_merge_df,\n",
    "                                        norm_val_counts_df,\n",
    "                                        left_index=True,right_index=True)\n",
    "    return numerical_cat_merge_df\n",
    "\n",
    "def statistics_numerical_categorical_itt_pp(demographics_df, attribute_name, numerical_col, categorical_col):\n",
    "    health_state_1 = 1\n",
    "    health_state_2 = 2\n",
    "    \n",
    "    demog_by_subpop = []\n",
    "    demog_by_subpop.append(statistics_numerical_categorical(demographics_df[demographics_df['wearables_itt'] == True], \n",
    "                                                   attribute_name+' (ITT Population)', numerical_col, categorical_col))\n",
    "    demog_by_subpop.append(statistics_numerical_categorical(demographics_df[demographics_df['wearables_pp'] == True], \n",
    "                                                   attribute_name+' (PP Population)', numerical_col, categorical_col))\n",
    "    demog_by_subpop.append(statistics_numerical_categorical(demographics_df, \n",
    "                                                attribute_name+' (overall population)', numerical_col, categorical_col))\n",
    "    demog_op_df = pd.concat(demog_by_subpop)\n",
    "    demog_op_df.index = pd.MultiIndex.from_tuples([(attribute_name, 'ITT Population'),\n",
    "                                                     (attribute_name, 'PP Population'),\n",
    "                                                      (attribute_name,'Overall')],\n",
    "                                 names=['Demographic','Subpopulation'])\n",
    "    return demog_op_df"
   ]
  },
  {
   "cell_type": "markdown",
   "id": "1d8fdb67-69f2-450e-b59f-326e8454f5d5",
   "metadata": {},
   "source": [
    "### Unit tests"
   ]
  },
  {
   "cell_type": "code",
   "execution_count": 8,
   "id": "ed285ed3-8bd2-4770-945d-bb8c6ea6443d",
   "metadata": {},
   "outputs": [
    {
     "data": {
      "text/html": [
       "<div>\n",
       "<style scoped>\n",
       "    .dataframe tbody tr th:only-of-type {\n",
       "        vertical-align: middle;\n",
       "    }\n",
       "\n",
       "    .dataframe tbody tr th {\n",
       "        vertical-align: top;\n",
       "    }\n",
       "\n",
       "    .dataframe thead th {\n",
       "        text-align: right;\n",
       "    }\n",
       "</style>\n",
       "<table border=\"1\" class=\"dataframe\">\n",
       "  <thead>\n",
       "    <tr style=\"text-align: right;\">\n",
       "      <th></th>\n",
       "      <th>mean</th>\n",
       "      <th>std</th>\n",
       "      <th>Senior (n)</th>\n",
       "      <th>Adult (n)</th>\n",
       "      <th>Senior (%)</th>\n",
       "      <th>Adult (%)</th>\n",
       "    </tr>\n",
       "  </thead>\n",
       "  <tbody>\n",
       "    <tr>\n",
       "      <th>Age</th>\n",
       "      <td>4.25</td>\n",
       "      <td>3.2</td>\n",
       "      <td>2</td>\n",
       "      <td>2</td>\n",
       "      <td>0.5</td>\n",
       "      <td>0.5</td>\n",
       "    </tr>\n",
       "  </tbody>\n",
       "</table>\n",
       "</div>"
      ],
      "text/plain": [
       "     mean  std  Senior (n)  Adult (n)  Senior (%)  Adult (%)\n",
       "Age  4.25  3.2           2          2         0.5        0.5"
      ]
     },
     "execution_count": 8,
     "metadata": {},
     "output_type": "execute_result"
    }
   ],
   "source": [
    "sample_data = pd.DataFrame({'Age':[1,2,7,7],\n",
    "                            'Age.category':['Adult','Adult', 'Senior','Senior']})\n",
    "statistics_numerical_categorical(sample_data, 'Age', 'Age', 'Age.category')"
   ]
  },
  {
   "cell_type": "code",
   "execution_count": 9,
   "id": "404afb54-ff22-44c4-ab7f-a23edbd8d935",
   "metadata": {},
   "outputs": [
    {
     "data": {
      "text/html": [
       "<div>\n",
       "<style scoped>\n",
       "    .dataframe tbody tr th:only-of-type {\n",
       "        vertical-align: middle;\n",
       "    }\n",
       "\n",
       "    .dataframe tbody tr th {\n",
       "        vertical-align: top;\n",
       "    }\n",
       "\n",
       "    .dataframe thead th {\n",
       "        text-align: right;\n",
       "    }\n",
       "</style>\n",
       "<table border=\"1\" class=\"dataframe\">\n",
       "  <thead>\n",
       "    <tr style=\"text-align: right;\">\n",
       "      <th></th>\n",
       "      <th></th>\n",
       "      <th>mean</th>\n",
       "      <th>std</th>\n",
       "      <th>Senior (n)</th>\n",
       "      <th>Adult (n)</th>\n",
       "      <th>Senior (%)</th>\n",
       "      <th>Adult (%)</th>\n",
       "    </tr>\n",
       "    <tr>\n",
       "      <th>Demographic</th>\n",
       "      <th>Subpopulation</th>\n",
       "      <th></th>\n",
       "      <th></th>\n",
       "      <th></th>\n",
       "      <th></th>\n",
       "      <th></th>\n",
       "      <th></th>\n",
       "    </tr>\n",
       "  </thead>\n",
       "  <tbody>\n",
       "    <tr>\n",
       "      <th rowspan=\"3\" valign=\"top\">Age</th>\n",
       "      <th>ITT Population</th>\n",
       "      <td>5.00</td>\n",
       "      <td>3.46</td>\n",
       "      <td>3</td>\n",
       "      <td>3</td>\n",
       "      <td>0.50</td>\n",
       "      <td>0.50</td>\n",
       "    </tr>\n",
       "    <tr>\n",
       "      <th>PP Population</th>\n",
       "      <td>5.29</td>\n",
       "      <td>3.25</td>\n",
       "      <td>4</td>\n",
       "      <td>3</td>\n",
       "      <td>0.57</td>\n",
       "      <td>0.43</td>\n",
       "    </tr>\n",
       "    <tr>\n",
       "      <th>Overall</th>\n",
       "      <td>4.80</td>\n",
       "      <td>3.08</td>\n",
       "      <td>5</td>\n",
       "      <td>5</td>\n",
       "      <td>0.50</td>\n",
       "      <td>0.50</td>\n",
       "    </tr>\n",
       "  </tbody>\n",
       "</table>\n",
       "</div>"
      ],
      "text/plain": [
       "                            mean   std  Senior (n)  Adult (n)  Senior (%)  \\\n",
       "Demographic Subpopulation                                                   \n",
       "Age         ITT Population  5.00  3.46           3          3        0.50   \n",
       "            PP Population   5.29  3.25           4          3        0.57   \n",
       "            Overall         4.80  3.08           5          5        0.50   \n",
       "\n",
       "                            Adult (%)  \n",
       "Demographic Subpopulation              \n",
       "Age         ITT Population       0.50  \n",
       "            PP Population        0.43  \n",
       "            Overall              0.50  "
      ]
     },
     "execution_count": 9,
     "metadata": {},
     "output_type": "execute_result"
    }
   ],
   "source": [
    "sample_data = pd.DataFrame({'Age':[2,7,2,7,2,7,2,7,10,2],\n",
    "                            'Age.category':['Adult', 'Senior','Adult','Senior','Adult', 'Senior','Adult','Senior','Senior','Adult'],\n",
    "                           'wearables_itt':[True, True, True, False, False, False, False, True, True, True],\n",
    "                           'wearables_pp':[True, True, True, False, False, True, False, True, True, True]})\n",
    "statistics_numerical_categorical_itt_pp(sample_data, 'Age', 'Age', 'Age.category')"
   ]
  },
  {
   "cell_type": "markdown",
   "id": "c44777f8-3bae-4a3a-b5cd-2c694ef19e9f",
   "metadata": {},
   "source": [
    "## Statistics for categorical only"
   ]
  },
  {
   "cell_type": "code",
   "execution_count": 10,
   "id": "fe40c987-3117-4e12-ad18-1bb4aeddd5ac",
   "metadata": {},
   "outputs": [],
   "source": [
    "def statistics_for_categorical(data, attribute_name, categorical_col): \n",
    "    value_counts_abs = data[categorical_col].value_counts()\n",
    "    value_counts_norm = data[categorical_col].value_counts(normalize=True)\n",
    "    \n",
    "    abs_val_counts_df = pd.DataFrame(value_counts_abs).T.reset_index(drop=True).rename(index={0: attribute_name}).round(2)\n",
    "    abs_val_counts_df.columns = [x+' ' for x in abs_val_counts_df.columns]\n",
    "    \n",
    "    norm_val_counts_df = pd.DataFrame(value_counts_norm).T.reset_index(drop=True).rename(index={0: attribute_name}).round(2)\n",
    "    norm_val_counts_df.columns = [x+' ' for x in norm_val_counts_df.columns] \n",
    "    \n",
    "    abs_val_counts_df.index = [attribute_name+' (n)']\n",
    "    norm_val_counts_df.index = [attribute_name+' (%)']\n",
    "    \n",
    "    return pd.merge(abs_val_counts_df.T,\n",
    "                    norm_val_counts_df.T,\n",
    "                    left_index=True,right_index=True)\n",
    "\n",
    "def statistics_by_categorical_itt_pp(demographics_df, attribute_name, categorical_col):\n",
    "    demog_by_subpop = []\n",
    "    # ITT subpopulation\n",
    "    itt_sub_pop = statistics_for_categorical(demographics_df[demographics_df['wearables_itt'] == True], \n",
    "                                             attribute_name, categorical_col)\n",
    "    tuples_list = []\n",
    "    for i in itt_sub_pop.index:\n",
    "        tuples_list.append((attribute_name,'ITT'+' subpopulation',i))\n",
    "    itt_sub_pop.index =  pd.MultiIndex.from_tuples(tuples_list,\n",
    "                                 names=['Demographic','Subpopulation',''])\n",
    "    demog_by_subpop.append(itt_sub_pop)\n",
    "    \n",
    "    # PP subpopulation\n",
    "    pp_sub_pop = statistics_for_categorical(demographics_df[demographics_df['wearables_pp'] == True], \n",
    "                                           attribute_name, categorical_col)\n",
    "    tuples_list = []\n",
    "    for i in pp_sub_pop.index:\n",
    "        tuples_list.append((attribute_name,'PP'+' subpopulation',i))\n",
    "    pp_sub_pop.index =  pd.MultiIndex.from_tuples(tuples_list,\n",
    "                                 names=['Demographic','Subpopulation',''])\n",
    "    demog_by_subpop.append(pp_sub_pop)\n",
    "    \n",
    "    # Overall population metrics\n",
    "    overall_pop = statistics_for_categorical(demographics_df, attribute_name, categorical_col)\n",
    "\n",
    "    tuples_list = []\n",
    "    for i in overall_pop.index:\n",
    "        tuples_list.append((attribute_name,'Overall'+' subpopulation',i))\n",
    "    overall_pop.index =  pd.MultiIndex.from_tuples(tuples_list,\n",
    "                                 names=['Demographic','Subpopulation',''])\n",
    "    demog_by_subpop.append(overall_pop)\n",
    "    \n",
    "    return pd.concat(demog_by_subpop)"
   ]
  },
  {
   "cell_type": "markdown",
   "id": "393a0a5d-fd6b-4caf-a6b5-7f62668575c9",
   "metadata": {},
   "source": [
    "### Unit Tests"
   ]
  },
  {
   "cell_type": "code",
   "execution_count": 11,
   "id": "538f8f59-fcf8-4a9e-8cdc-96868a0ae367",
   "metadata": {},
   "outputs": [
    {
     "data": {
      "text/html": [
       "<div>\n",
       "<style scoped>\n",
       "    .dataframe tbody tr th:only-of-type {\n",
       "        vertical-align: middle;\n",
       "    }\n",
       "\n",
       "    .dataframe tbody tr th {\n",
       "        vertical-align: top;\n",
       "    }\n",
       "\n",
       "    .dataframe thead th {\n",
       "        text-align: right;\n",
       "    }\n",
       "</style>\n",
       "<table border=\"1\" class=\"dataframe\">\n",
       "  <thead>\n",
       "    <tr style=\"text-align: right;\">\n",
       "      <th></th>\n",
       "      <th>Age (n)</th>\n",
       "      <th>Age (%)</th>\n",
       "    </tr>\n",
       "  </thead>\n",
       "  <tbody>\n",
       "    <tr>\n",
       "      <th>Senior</th>\n",
       "      <td>5</td>\n",
       "      <td>0.5</td>\n",
       "    </tr>\n",
       "    <tr>\n",
       "      <th>Adult</th>\n",
       "      <td>5</td>\n",
       "      <td>0.5</td>\n",
       "    </tr>\n",
       "  </tbody>\n",
       "</table>\n",
       "</div>"
      ],
      "text/plain": [
       "         Age (n)  Age (%)\n",
       "Senior         5      0.5\n",
       "Adult          5      0.5"
      ]
     },
     "execution_count": 11,
     "metadata": {},
     "output_type": "execute_result"
    }
   ],
   "source": [
    "statistics_for_categorical(sample_data, 'Age', 'Age.category')"
   ]
  },
  {
   "cell_type": "code",
   "execution_count": 12,
   "id": "78ad99b8-4a91-41b6-b700-0847b9e860cb",
   "metadata": {},
   "outputs": [
    {
     "data": {
      "text/html": [
       "<div>\n",
       "<style scoped>\n",
       "    .dataframe tbody tr th:only-of-type {\n",
       "        vertical-align: middle;\n",
       "    }\n",
       "\n",
       "    .dataframe tbody tr th {\n",
       "        vertical-align: top;\n",
       "    }\n",
       "\n",
       "    .dataframe thead th {\n",
       "        text-align: right;\n",
       "    }\n",
       "</style>\n",
       "<table border=\"1\" class=\"dataframe\">\n",
       "  <thead>\n",
       "    <tr style=\"text-align: right;\">\n",
       "      <th></th>\n",
       "      <th></th>\n",
       "      <th></th>\n",
       "      <th>Age (n)</th>\n",
       "      <th>Age (%)</th>\n",
       "    </tr>\n",
       "    <tr>\n",
       "      <th>Demographic</th>\n",
       "      <th>Subpopulation</th>\n",
       "      <th></th>\n",
       "      <th></th>\n",
       "      <th></th>\n",
       "    </tr>\n",
       "  </thead>\n",
       "  <tbody>\n",
       "    <tr>\n",
       "      <th rowspan=\"6\" valign=\"top\">Age</th>\n",
       "      <th rowspan=\"2\" valign=\"top\">ITT subpopulation</th>\n",
       "      <th>Senior</th>\n",
       "      <td>3</td>\n",
       "      <td>0.50</td>\n",
       "    </tr>\n",
       "    <tr>\n",
       "      <th>Adult</th>\n",
       "      <td>3</td>\n",
       "      <td>0.50</td>\n",
       "    </tr>\n",
       "    <tr>\n",
       "      <th rowspan=\"2\" valign=\"top\">PP subpopulation</th>\n",
       "      <th>Senior</th>\n",
       "      <td>4</td>\n",
       "      <td>0.57</td>\n",
       "    </tr>\n",
       "    <tr>\n",
       "      <th>Adult</th>\n",
       "      <td>3</td>\n",
       "      <td>0.43</td>\n",
       "    </tr>\n",
       "    <tr>\n",
       "      <th rowspan=\"2\" valign=\"top\">Overall subpopulation</th>\n",
       "      <th>Senior</th>\n",
       "      <td>5</td>\n",
       "      <td>0.50</td>\n",
       "    </tr>\n",
       "    <tr>\n",
       "      <th>Adult</th>\n",
       "      <td>5</td>\n",
       "      <td>0.50</td>\n",
       "    </tr>\n",
       "  </tbody>\n",
       "</table>\n",
       "</div>"
      ],
      "text/plain": [
       "                                           Age (n)  Age (%)\n",
       "Demographic Subpopulation                                  \n",
       "Age         ITT subpopulation     Senior         3     0.50\n",
       "                                  Adult          3     0.50\n",
       "            PP subpopulation      Senior         4     0.57\n",
       "                                  Adult          3     0.43\n",
       "            Overall subpopulation Senior         5     0.50\n",
       "                                  Adult          5     0.50"
      ]
     },
     "execution_count": 12,
     "metadata": {},
     "output_type": "execute_result"
    }
   ],
   "source": [
    "statistics_by_categorical_itt_pp(sample_data, 'Age', 'Age.category')"
   ]
  },
  {
   "cell_type": "markdown",
   "id": "14bea4e1-cc1d-4cf3-83ba-931dc7f94315",
   "metadata": {},
   "source": [
    "## Statistical tests for numerical and categorical data"
   ]
  },
  {
   "cell_type": "code",
   "execution_count": 13,
   "id": "cbfdfb78-e12a-408b-88cb-34b582f20b6c",
   "metadata": {},
   "outputs": [],
   "source": [
    "def chi_squared_report(p_value, test_statistic, outcome_str, alpha=0.05):\n",
    "    \n",
    "    t_test_flag = {True: 'Reject the null hypothesis',\n",
    "                                   False: 'Do not reject the null hypothesis'}\n",
    "    t_test_conclusion = p_value < alpha\n",
    "    \n",
    "    mydata_ttest = [\n",
    "        [test_statistic, p_value, t_test_flag[t_test_conclusion]]]\n",
    "    myheaders_ttest = [\"Statistic\", 'P-value', 'Conclusion']\n",
    "    mystubs_ttest = [\"Results\"]\n",
    "    tbl_ttest = SimpleTable(mydata_ttest, \n",
    "                            myheaders_ttest,\n",
    "                            mystubs_ttest,\n",
    "                            title=\"Chi-squared test results\")\n",
    "    print(tbl_ttest)\n",
    "    print(\"Outcome:\", outcome_str)\n",
    "    print('=' * 59)\n",
    "    \n",
    "def statistical_test_difference(demographics_df, attribute_name, categorical_col, alpha=0.05):\n",
    "\n",
    "    print('ITT and PP Population')\n",
    "    # For ITT\n",
    "    itt_df = pd.DataFrame(demographics_df[demographics_df['wearables_itt'] == True][categorical_col].value_counts())\n",
    "    itt_df.columns = ['ITT population']\n",
    "    # For PP\n",
    "    pp_df = pd.DataFrame(demographics_df[demographics_df['wearables_pp'] == True][categorical_col].value_counts())\n",
    "    pp_df.columns = ['PP population']\n",
    "        \n",
    "    # contingency table df \n",
    "    contingency_table_for_test = pd.concat([itt_df, pp_df], axis=1).fillna(0)\n",
    "    # Create a contingency table\n",
    "    contingency_table = [list(contingency_table_for_test['ITT population']),\n",
    "                            list(contingency_table_for_test['PP population'])]\n",
    "        \n",
    "    # remove categories that have less than 5 values\n",
    "    contingency_wo_less_counts = np.any(np.array(contingency_table) < 5, axis=0)\n",
    "    contingency_wo_less_counts = np.array(contingency_table)[:,~contingency_wo_less_counts]\n",
    "        \n",
    "    if contingency_wo_less_counts.size==0:\n",
    "        print(\"Can't perform the test as the categories have less than 5 counts (based on the subpopulation)\")\n",
    "        return\n",
    "    else:\n",
    "        contingency_wo_less_counts = list([list([int(i) for i in x]) for x in contingency_wo_less_counts])\n",
    "        \n",
    "    # Perform the chi-square test of independence\n",
    "    chi2_stat, p_value, dof, expected = chi2_contingency(contingency_wo_less_counts)\n",
    "    p_value = round(p_value, 2)\n",
    "    chi2_stat = round(chi2_stat, 2)\n",
    "    if p_value < 0.05:\n",
    "        outcome_str = \"The p-value is less than 0.05, indicating strong evidence to reject the null hypothesis. There is a significant difference between the ITT and PP population using \" +categorical_col+' as the categorical variable.'\n",
    "        outcome_str = '\\n'.join(textwrap.wrap(outcome_str, 54))\n",
    "    else:\n",
    "        outcome_str = \"The p-value is greater than or equal to 0.05, suggesting that there is not enough evidence to reject the null hypothesis. There is no significant difference between the ITT and PP population using \"+categorical_col+' as the categorical variable.'\n",
    "        outcome_str = '\\n'.join(textwrap.wrap(outcome_str, 54))\n",
    "    # report results\n",
    "    chi_squared_report(p_value, chi2_stat, outcome_str, alpha=0.05)\n",
    "    print('\\n')\n",
    "\n",
    "def numerical_stat_test_report(demographics_df, numerical_col):\n",
    "    \n",
    "    stat, p_val = stats.mannwhitneyu(demographics_df[demographics_df['wearables_itt'] == True][numerical_col].dropna().values,\n",
    "                   demographics_df[demographics_df['wearables_pp'] == True][numerical_col].dropna().values)\n",
    "\n",
    "    print('=' * 65)\n",
    "    print('Mann Whitney test for '+numerical_col)\n",
    "    print('=' * 67)\n",
    "    print('ITT vs PP:')\n",
    "    print('-' * 67)\n",
    "    print('Statistic: %.2f, p-value: %.2f' %(stat.round(2), p_val.round(2)))\n",
    "    print('-' * 67)\n",
    "    print('Outcome:')\n",
    "    if p_val<0.05:\n",
    "        print('Reject the NULL hypothesis')\n",
    "        print('Significant difference between the two groups based on '+numerical_col)\n",
    "    else:\n",
    "        print('Cannot reject the NULL hypothesis')\n",
    "        print('No significant difference between the two groups based on '+numerical_col)\n"
   ]
  },
  {
   "cell_type": "markdown",
   "id": "43de8514-0e33-4ea3-ac7f-7427aa2f72e5",
   "metadata": {},
   "source": [
    "### Unit Tests"
   ]
  },
  {
   "cell_type": "code",
   "execution_count": 14,
   "id": "74d163cb-90b9-4208-807a-cfd40bfe1a72",
   "metadata": {},
   "outputs": [
    {
     "name": "stdout",
     "output_type": "stream",
     "text": [
      "                  Chi-squared test results                 \n",
      "===========================================================\n",
      "        Statistic P-value             Conclusion           \n",
      "-----------------------------------------------------------\n",
      "Results      21.4    0.05 Do not reject the null hypothesis\n",
      "-----------------------------------------------------------\n",
      "Outcome: No significant difference\n",
      "===========================================================\n"
     ]
    }
   ],
   "source": [
    "chi_squared_report(0.05, 21.4, 'No significant difference', alpha=0.05)"
   ]
  },
  {
   "cell_type": "code",
   "execution_count": 15,
   "id": "af05b4c7-ad75-47a0-8efa-0966dc56d7a9",
   "metadata": {},
   "outputs": [
    {
     "data": {
      "text/html": [
       "<div>\n",
       "<style scoped>\n",
       "    .dataframe tbody tr th:only-of-type {\n",
       "        vertical-align: middle;\n",
       "    }\n",
       "\n",
       "    .dataframe tbody tr th {\n",
       "        vertical-align: top;\n",
       "    }\n",
       "\n",
       "    .dataframe thead th {\n",
       "        text-align: right;\n",
       "    }\n",
       "</style>\n",
       "<table border=\"1\" class=\"dataframe\">\n",
       "  <thead>\n",
       "    <tr style=\"text-align: right;\">\n",
       "      <th></th>\n",
       "      <th></th>\n",
       "      <th>mean</th>\n",
       "      <th>std</th>\n",
       "      <th>Senior (n)</th>\n",
       "      <th>Adult (n)</th>\n",
       "      <th>Senior (%)</th>\n",
       "      <th>Adult (%)</th>\n",
       "    </tr>\n",
       "    <tr>\n",
       "      <th>Demographic</th>\n",
       "      <th>Subpopulation</th>\n",
       "      <th></th>\n",
       "      <th></th>\n",
       "      <th></th>\n",
       "      <th></th>\n",
       "      <th></th>\n",
       "      <th></th>\n",
       "    </tr>\n",
       "  </thead>\n",
       "  <tbody>\n",
       "    <tr>\n",
       "      <th rowspan=\"3\" valign=\"top\">Age</th>\n",
       "      <th>ITT Population</th>\n",
       "      <td>5.60</td>\n",
       "      <td>3.51</td>\n",
       "      <td>3</td>\n",
       "      <td>2</td>\n",
       "      <td>0.60</td>\n",
       "      <td>0.40</td>\n",
       "    </tr>\n",
       "    <tr>\n",
       "      <th>PP Population</th>\n",
       "      <td>5.83</td>\n",
       "      <td>3.19</td>\n",
       "      <td>4</td>\n",
       "      <td>2</td>\n",
       "      <td>0.67</td>\n",
       "      <td>0.33</td>\n",
       "    </tr>\n",
       "    <tr>\n",
       "      <th>Overall</th>\n",
       "      <td>5.11</td>\n",
       "      <td>3.10</td>\n",
       "      <td>5</td>\n",
       "      <td>4</td>\n",
       "      <td>0.56</td>\n",
       "      <td>0.44</td>\n",
       "    </tr>\n",
       "  </tbody>\n",
       "</table>\n",
       "</div>"
      ],
      "text/plain": [
       "                            mean   std  Senior (n)  Adult (n)  Senior (%)  \\\n",
       "Demographic Subpopulation                                                   \n",
       "Age         ITT Population  5.60  3.51           3          2        0.60   \n",
       "            PP Population   5.83  3.19           4          2        0.67   \n",
       "            Overall         5.11  3.10           5          4        0.56   \n",
       "\n",
       "                            Adult (%)  \n",
       "Demographic Subpopulation              \n",
       "Age         ITT Population       0.40  \n",
       "            PP Population        0.33  \n",
       "            Overall              0.44  "
      ]
     },
     "execution_count": 15,
     "metadata": {},
     "output_type": "execute_result"
    }
   ],
   "source": [
    "sample_data = pd.DataFrame({'Age':[2,7,2,7,2,7,2,7,10,np.nan],\n",
    "                            'Age.category':['Adult', 'Senior','Adult','Senior','Adult', 'Senior','Adult','Senior','Senior',np.nan],\n",
    "                           'wearables_itt':[True, True, True, False, False, False, False, True, True, np.nan],\n",
    "                           'wearables_pp':[True, True, True, False, False, True, False, True, True, np.nan]})\n",
    "statistics_numerical_categorical_itt_pp(sample_data, 'Age', 'Age', 'Age.category')"
   ]
  },
  {
   "cell_type": "code",
   "execution_count": 16,
   "id": "09ed1292-e4c1-452a-91fa-f56f59844c4e",
   "metadata": {},
   "outputs": [
    {
     "name": "stdout",
     "output_type": "stream",
     "text": [
      "ITT and PP Population\n",
      "Can't perform the test as the categories have less than 5 counts (based on the subpopulation)\n"
     ]
    }
   ],
   "source": [
    "statistical_test_difference(sample_data, 'Age', 'Age.category', alpha=0.05)"
   ]
  },
  {
   "cell_type": "code",
   "execution_count": 17,
   "id": "2ff010a9-e4c3-4a16-87f9-1dcb2913fd0a",
   "metadata": {},
   "outputs": [
    {
     "name": "stdout",
     "output_type": "stream",
     "text": [
      "=================================================================\n",
      "Mann Whitney test for Age\n",
      "===================================================================\n",
      "ITT vs PP:\n",
      "-------------------------------------------------------------------\n",
      "Statistic: 14.50, p-value: 1.00\n",
      "-------------------------------------------------------------------\n",
      "Outcome:\n",
      "Cannot reject the NULL hypothesis\n",
      "No significant difference between the two groups based on Age\n"
     ]
    }
   ],
   "source": [
    "numerical_stat_test_report(sample_data, 'Age')"
   ]
  },
  {
   "cell_type": "code",
   "execution_count": 18,
   "id": "05f18a64-8044-41e8-b9c6-2b5b3e59585d",
   "metadata": {},
   "outputs": [
    {
     "data": {
      "text/plain": [
       "MannwhitneyuResult(statistic=14.5, pvalue=1.0)"
      ]
     },
     "execution_count": 18,
     "metadata": {},
     "output_type": "execute_result"
    }
   ],
   "source": [
    "stats.mannwhitneyu(sample_data[sample_data['wearables_itt']==True]['Age'].values,\n",
    "                   sample_data[sample_data['wearables_pp']==True]['Age'].values)"
   ]
  },
  {
   "cell_type": "markdown",
   "id": "28e3e8a7-74f0-41f8-bd80-5dc2a37a77fd",
   "metadata": {},
   "source": [
    "# Demographics dataset"
   ]
  },
  {
   "cell_type": "markdown",
   "id": "99f0d61a-4d1e-4d7f-a4a5-ac581891798c",
   "metadata": {},
   "source": [
    "Renaming the demographics columns "
   ]
  },
  {
   "cell_type": "code",
   "execution_count": 19,
   "id": "37ecfb96-d346-407b-ab96-c7533170e1f2",
   "metadata": {},
   "outputs": [
    {
     "name": "stderr",
     "output_type": "stream",
     "text": [
      "/opt/conda/envs/hillsadvancedml_envi/lib/python3.7/site-packages/pandas/core/frame.py:4304: SettingWithCopyWarning: \n",
      "A value is trying to be set on a copy of a slice from a DataFrame\n",
      "\n",
      "See the caveats in the documentation: https://pandas.pydata.org/pandas-docs/stable/user_guide/indexing.html#returning-a-view-versus-a-copy\n",
      "  errors=errors,\n"
     ]
    }
   ],
   "source": [
    "demographics_study_cols = list(data1.columns[:20]) + ['wearables_itt', 'wearables_pp'] + list(demographics_variable_list.keys())\n",
    "demog_df = data1[demographics_study_cols]\n",
    "demog_df.rename(columns=demographics_variable_list, inplace=True)"
   ]
  },
  {
   "cell_type": "code",
   "execution_count": 20,
   "id": "d0dfb4f3-ac96-482f-947a-a69d690f5d51",
   "metadata": {},
   "outputs": [
    {
     "data": {
      "text/plain": [
       "Index(['wearables_itt', 'wearables_pp', 'Gender', 'Day 0 age',\n",
       "       'Day 0 body weight', 'Site', 'Baseline period pain medications',\n",
       "       'Owner Daily Diary', 'weekend vs. weekday'],\n",
       "      dtype='object')"
      ]
     },
     "execution_count": 20,
     "metadata": {},
     "output_type": "execute_result"
    }
   ],
   "source": [
    "demog_df.columns[20:]"
   ]
  },
  {
   "cell_type": "markdown",
   "id": "07b00e69-c254-4a46-9599-c1b4a39481e0",
   "metadata": {},
   "source": [
    "## Age helper functions"
   ]
  },
  {
   "cell_type": "code",
   "execution_count": 21,
   "id": "c19cf648-89fb-4ab2-b4b1-5cb2f7274da8",
   "metadata": {},
   "outputs": [],
   "source": [
    "def calculate_age(born):\n",
    "    today = date.today()\n",
    "    return today.year - born.year - ((today.month, today.day) < (born.month, born.day))\n",
    "\n",
    "def age_category_converter(age):\n",
    "    if (age < 7):\n",
    "        return \"Adult\"\n",
    "    elif (age>=7 and age < 11):\n",
    "        return \"Senior younger than 11\"\n",
    "    elif (age>= 11):\n",
    "        return \"Senior older than 11\"\n",
    "    else:\n",
    "        return np.nan\n",
    "\n",
    "\n",
    "categories_less_than_55 = ['Adult (less than 55lbs)', 'Senior younger than 11 (less than 55lbs)', 'Senior older than 11 (less than 55lbs)']\n",
    "categories_greater_than_55 = ['Adult', 'Senior younger than 7', 'Senior younger than 11 (7+)', 'Senior older than 11']\n",
    "\n",
    "def age_stratification(weight, age):\n",
    "    if (weight < 55):\n",
    "        if (age < 7):\n",
    "            return categories_less_than_55[0]\n",
    "        elif (age>=7 and age < 11):\n",
    "            return categories_less_than_55[1]\n",
    "        else:\n",
    "            return categories_less_than_55[2]\n",
    "    else:\n",
    "        if (age < 5):\n",
    "            return categories_greater_than_55[0]\n",
    "        elif (age < 7):\n",
    "            return categories_greater_than_55[1]\n",
    "        elif (age < 11):\n",
    "            return categories_greater_than_55[2]\n",
    "        else:\n",
    "            return categories_greater_than_55[3]\n",
    "\n"
   ]
  },
  {
   "cell_type": "markdown",
   "id": "e6e2a472-3379-464d-903d-de0b0fe517d8",
   "metadata": {},
   "source": [
    "## Age"
   ]
  },
  {
   "cell_type": "code",
   "execution_count": 22,
   "id": "0acc5191-b52e-4fba-97a1-7fbba2ba42a5",
   "metadata": {},
   "outputs": [
    {
     "data": {
      "text/plain": [
       "array([ 5., 11.,  6., nan, 10.,  2.,  8.,  7.,  9., 13., 12., 15.])"
      ]
     },
     "execution_count": 22,
     "metadata": {},
     "output_type": "execute_result"
    }
   ],
   "source": [
    "demog_df['Day 0 age'].unique()"
   ]
  },
  {
   "cell_type": "markdown",
   "id": "b6235ec9-78dd-45ed-814d-1be7e2ab48d0",
   "metadata": {},
   "source": [
    "Here we are trying to get the first non null value"
   ]
  },
  {
   "cell_type": "code",
   "execution_count": 23,
   "id": "1996a43d-616e-4a3e-9e7c-bb718182def7",
   "metadata": {},
   "outputs": [],
   "source": [
    "demographics_age = demog_df.groupby(['PET_ID']).agg({'Day 0 age':'first',\n",
    "                                                         'wearables_itt':'first',\n",
    "                                                         'wearables_pp':'first'}).reset_index()\n",
    "\n",
    "demographics_age['Age.category'] = [age_category_converter(x) for x in demographics_age['Day 0 age'].values]"
   ]
  },
  {
   "cell_type": "markdown",
   "id": "d345a48c-2c2c-4290-94a9-e8e28bfdf1b9",
   "metadata": {},
   "source": [
    "### Age table"
   ]
  },
  {
   "cell_type": "code",
   "execution_count": 24,
   "id": "b6ab543c-49c8-4cde-8726-1cc1f0eb7e34",
   "metadata": {},
   "outputs": [
    {
     "data": {
      "text/html": [
       "<div>\n",
       "<style scoped>\n",
       "    .dataframe tbody tr th:only-of-type {\n",
       "        vertical-align: middle;\n",
       "    }\n",
       "\n",
       "    .dataframe tbody tr th {\n",
       "        vertical-align: top;\n",
       "    }\n",
       "\n",
       "    .dataframe thead th {\n",
       "        text-align: right;\n",
       "    }\n",
       "</style>\n",
       "<table border=\"1\" class=\"dataframe\">\n",
       "  <thead>\n",
       "    <tr style=\"text-align: right;\">\n",
       "      <th></th>\n",
       "      <th></th>\n",
       "      <th>mean</th>\n",
       "      <th>std</th>\n",
       "      <th>Senior younger than 11 (n)</th>\n",
       "      <th>Senior older than 11 (n)</th>\n",
       "      <th>Adult (n)</th>\n",
       "      <th>Senior younger than 11 (%)</th>\n",
       "      <th>Senior older than 11 (%)</th>\n",
       "      <th>Adult (%)</th>\n",
       "    </tr>\n",
       "    <tr>\n",
       "      <th>Demographic</th>\n",
       "      <th>Subpopulation</th>\n",
       "      <th></th>\n",
       "      <th></th>\n",
       "      <th></th>\n",
       "      <th></th>\n",
       "      <th></th>\n",
       "      <th></th>\n",
       "      <th></th>\n",
       "      <th></th>\n",
       "    </tr>\n",
       "  </thead>\n",
       "  <tbody>\n",
       "    <tr>\n",
       "      <th rowspan=\"3\" valign=\"top\">Age</th>\n",
       "      <th>ITT Population</th>\n",
       "      <td>9.02</td>\n",
       "      <td>2.45</td>\n",
       "      <td>64</td>\n",
       "      <td>29</td>\n",
       "      <td>18</td>\n",
       "      <td>0.58</td>\n",
       "      <td>0.26</td>\n",
       "      <td>0.16</td>\n",
       "    </tr>\n",
       "    <tr>\n",
       "      <th>PP Population</th>\n",
       "      <td>9.00</td>\n",
       "      <td>2.39</td>\n",
       "      <td>23</td>\n",
       "      <td>7</td>\n",
       "      <td>8</td>\n",
       "      <td>0.61</td>\n",
       "      <td>0.18</td>\n",
       "      <td>0.21</td>\n",
       "    </tr>\n",
       "    <tr>\n",
       "      <th>Overall</th>\n",
       "      <td>9.00</td>\n",
       "      <td>2.45</td>\n",
       "      <td>65</td>\n",
       "      <td>29</td>\n",
       "      <td>18</td>\n",
       "      <td>0.58</td>\n",
       "      <td>0.26</td>\n",
       "      <td>0.16</td>\n",
       "    </tr>\n",
       "  </tbody>\n",
       "</table>\n",
       "</div>"
      ],
      "text/plain": [
       "                            mean   std  Senior younger than 11 (n)  \\\n",
       "Demographic Subpopulation                                            \n",
       "Age         ITT Population  9.02  2.45                          64   \n",
       "            PP Population   9.00  2.39                          23   \n",
       "            Overall         9.00  2.45                          65   \n",
       "\n",
       "                            Senior older than 11 (n)  Adult (n)  \\\n",
       "Demographic Subpopulation                                         \n",
       "Age         ITT Population                        29         18   \n",
       "            PP Population                          7          8   \n",
       "            Overall                               29         18   \n",
       "\n",
       "                            Senior younger than 11 (%)  \\\n",
       "Demographic Subpopulation                                \n",
       "Age         ITT Population                        0.58   \n",
       "            PP Population                         0.61   \n",
       "            Overall                               0.58   \n",
       "\n",
       "                            Senior older than 11 (%)  Adult (%)  \n",
       "Demographic Subpopulation                                        \n",
       "Age         ITT Population                      0.26       0.16  \n",
       "            PP Population                       0.18       0.21  \n",
       "            Overall                             0.26       0.16  "
      ]
     },
     "metadata": {},
     "output_type": "display_data"
    }
   ],
   "source": [
    "display(statistics_numerical_categorical_itt_pp(demographics_age, 'Age', 'Day 0 age', 'Age.category'))"
   ]
  },
  {
   "cell_type": "markdown",
   "id": "eb269b5c-5197-4018-a448-bcbf02f321c4",
   "metadata": {},
   "source": [
    "### Age (numerical) Mann Whitney test"
   ]
  },
  {
   "cell_type": "code",
   "execution_count": 25,
   "id": "64a4c139-89ff-40a6-b525-1e72184cf2d2",
   "metadata": {},
   "outputs": [
    {
     "name": "stdout",
     "output_type": "stream",
     "text": [
      "=================================================================\n",
      "Mann Whitney test for Day 0 age\n",
      "===================================================================\n",
      "ITT vs PP:\n",
      "-------------------------------------------------------------------\n",
      "Statistic: 2121.50, p-value: 0.96\n",
      "-------------------------------------------------------------------\n",
      "Outcome:\n",
      "Cannot reject the NULL hypothesis\n",
      "No significant difference between the two groups based on Day 0 age\n"
     ]
    }
   ],
   "source": [
    "numerical_stat_test_report(demographics_age, 'Day 0 age')"
   ]
  },
  {
   "cell_type": "code",
   "execution_count": 26,
   "id": "340b4af3-b371-4f11-a4d2-e899b0e09c1b",
   "metadata": {},
   "outputs": [
    {
     "data": {
      "text/plain": [
       "MannwhitneyuResult(statistic=2121.5, pvalue=0.9579153530464198)"
      ]
     },
     "execution_count": 26,
     "metadata": {},
     "output_type": "execute_result"
    }
   ],
   "source": [
    "stats.mannwhitneyu(demographics_age[demographics_age['wearables_itt']==True]['Day 0 age'].dropna().values,\n",
    "                   demographics_age[demographics_age['wearables_pp']==True]['Day 0 age'].dropna().values)"
   ]
  },
  {
   "cell_type": "markdown",
   "id": "1140157b-b0c5-46b0-9fec-8c2a725646d2",
   "metadata": {},
   "source": [
    "### Age statistical test"
   ]
  },
  {
   "cell_type": "code",
   "execution_count": 27,
   "id": "9e6395f1-2947-4eb1-b4da-a75862a70d1b",
   "metadata": {},
   "outputs": [],
   "source": [
    "def get_value_counts_as_per_chi_2(demographics_df, categorical_col):\n",
    "    val_counts_greater_than_5 = demographics_df[categorical_col].value_counts()[\\\n",
    "                                demographics_df[categorical_col].value_counts()>5].index\n",
    "    demographics_for_chi_df = demographics_df[demographics_df[categorical_col].isin(val_counts_greater_than_5)]\n",
    "    return demographics_for_chi_df"
   ]
  },
  {
   "cell_type": "code",
   "execution_count": 28,
   "id": "e9f143e2-edfb-43f5-8b9b-bca3696fbf1c",
   "metadata": {},
   "outputs": [
    {
     "name": "stdout",
     "output_type": "stream",
     "text": [
      "ITT and PP Population\n",
      "                  Chi-squared test results                 \n",
      "===========================================================\n",
      "        Statistic P-value             Conclusion           \n",
      "-----------------------------------------------------------\n",
      "Results      1.11    0.57 Do not reject the null hypothesis\n",
      "-----------------------------------------------------------\n",
      "Outcome: The p-value is greater than or equal to 0.05,\n",
      "suggesting that there is not enough evidence to reject\n",
      "the null hypothesis. There is no significant\n",
      "difference between the ITT and PP population using\n",
      "Age.category as the categorical variable.\n",
      "===========================================================\n",
      "\n",
      "\n"
     ]
    }
   ],
   "source": [
    "op = statistical_test_difference(get_value_counts_as_per_chi_2(demographics_age, 'Age.category'), 'Age', 'Age.category', alpha=0.05)"
   ]
  },
  {
   "cell_type": "markdown",
   "id": "68081731-b736-4e14-ac66-83da07b5e8e0",
   "metadata": {},
   "source": [
    "## Age stratified by weight"
   ]
  },
  {
   "cell_type": "code",
   "execution_count": 29,
   "id": "5209e0fd-6114-474c-8f4f-ac5376f9a41c",
   "metadata": {},
   "outputs": [],
   "source": [
    "demographics_age_byweight = demog_df.groupby(['PET_ID']).agg({'Day 0 age':'first',\n",
    "                                                             'wearables_itt':'first',\n",
    "                                                             'wearables_pp':'first',\n",
    "                                                             'Day 0 body weight':'first'}).reset_index()\n",
    "\n",
    "demographics_age_byweight['Age.byweight'] = demographics_age_byweight.apply(lambda row: age_stratification(row['Day 0 body weight'], \n",
    "                                                                                                           row['Day 0 age']), axis=1)"
   ]
  },
  {
   "cell_type": "code",
   "execution_count": 30,
   "id": "fc89a84f-7cd5-4d0f-b590-b32a1c01a6eb",
   "metadata": {},
   "outputs": [
    {
     "data": {
      "text/html": [
       "<div>\n",
       "<style scoped>\n",
       "    .dataframe tbody tr th:only-of-type {\n",
       "        vertical-align: middle;\n",
       "    }\n",
       "\n",
       "    .dataframe tbody tr th {\n",
       "        vertical-align: top;\n",
       "    }\n",
       "\n",
       "    .dataframe thead th {\n",
       "        text-align: right;\n",
       "    }\n",
       "</style>\n",
       "<table border=\"1\" class=\"dataframe\">\n",
       "  <thead>\n",
       "    <tr style=\"text-align: right;\">\n",
       "      <th></th>\n",
       "      <th></th>\n",
       "      <th>mean</th>\n",
       "      <th>std</th>\n",
       "      <th>Senior younger than 11 (7+) (n)</th>\n",
       "      <th>Senior older than 11 (n)</th>\n",
       "      <th>Senior younger than 11 (less than 55lbs) (n)</th>\n",
       "      <th>Senior older than 11 (less than 55lbs) (n)</th>\n",
       "      <th>Senior younger than 7 (n)</th>\n",
       "      <th>Adult (less than 55lbs) (n)</th>\n",
       "      <th>Adult (n)</th>\n",
       "      <th>Senior younger than 11 (7+) (%)</th>\n",
       "      <th>Senior older than 11 (%)</th>\n",
       "      <th>Senior younger than 11 (less than 55lbs) (%)</th>\n",
       "      <th>Senior older than 11 (less than 55lbs) (%)</th>\n",
       "      <th>Senior younger than 7 (%)</th>\n",
       "      <th>Adult (less than 55lbs) (%)</th>\n",
       "      <th>Adult (%)</th>\n",
       "    </tr>\n",
       "    <tr>\n",
       "      <th>Demographic</th>\n",
       "      <th>Subpopulation</th>\n",
       "      <th></th>\n",
       "      <th></th>\n",
       "      <th></th>\n",
       "      <th></th>\n",
       "      <th></th>\n",
       "      <th></th>\n",
       "      <th></th>\n",
       "      <th></th>\n",
       "      <th></th>\n",
       "      <th></th>\n",
       "      <th></th>\n",
       "      <th></th>\n",
       "      <th></th>\n",
       "      <th></th>\n",
       "      <th></th>\n",
       "      <th></th>\n",
       "    </tr>\n",
       "  </thead>\n",
       "  <tbody>\n",
       "    <tr>\n",
       "      <th rowspan=\"3\" valign=\"top\">Age</th>\n",
       "      <th>ITT Population</th>\n",
       "      <td>9.02</td>\n",
       "      <td>2.45</td>\n",
       "      <td>38</td>\n",
       "      <td>29</td>\n",
       "      <td>26</td>\n",
       "      <td>24</td>\n",
       "      <td>14</td>\n",
       "      <td>3</td>\n",
       "      <td>1.0</td>\n",
       "      <td>0.28</td>\n",
       "      <td>0.21</td>\n",
       "      <td>0.19</td>\n",
       "      <td>0.18</td>\n",
       "      <td>0.10</td>\n",
       "      <td>0.02</td>\n",
       "      <td>0.01</td>\n",
       "    </tr>\n",
       "    <tr>\n",
       "      <th>PP Population</th>\n",
       "      <td>9.00</td>\n",
       "      <td>2.39</td>\n",
       "      <td>10</td>\n",
       "      <td>6</td>\n",
       "      <td>13</td>\n",
       "      <td>5</td>\n",
       "      <td>7</td>\n",
       "      <td>1</td>\n",
       "      <td>NaN</td>\n",
       "      <td>0.24</td>\n",
       "      <td>0.14</td>\n",
       "      <td>0.31</td>\n",
       "      <td>0.12</td>\n",
       "      <td>0.17</td>\n",
       "      <td>0.02</td>\n",
       "      <td>NaN</td>\n",
       "    </tr>\n",
       "    <tr>\n",
       "      <th>Overall</th>\n",
       "      <td>9.00</td>\n",
       "      <td>2.45</td>\n",
       "      <td>38</td>\n",
       "      <td>29</td>\n",
       "      <td>27</td>\n",
       "      <td>24</td>\n",
       "      <td>14</td>\n",
       "      <td>3</td>\n",
       "      <td>1.0</td>\n",
       "      <td>0.28</td>\n",
       "      <td>0.21</td>\n",
       "      <td>0.20</td>\n",
       "      <td>0.18</td>\n",
       "      <td>0.10</td>\n",
       "      <td>0.02</td>\n",
       "      <td>0.01</td>\n",
       "    </tr>\n",
       "  </tbody>\n",
       "</table>\n",
       "</div>"
      ],
      "text/plain": [
       "                            mean   std  Senior younger than 11 (7+) (n)  \\\n",
       "Demographic Subpopulation                                                 \n",
       "Age         ITT Population  9.02  2.45                               38   \n",
       "            PP Population   9.00  2.39                               10   \n",
       "            Overall         9.00  2.45                               38   \n",
       "\n",
       "                            Senior older than 11 (n)  \\\n",
       "Demographic Subpopulation                              \n",
       "Age         ITT Population                        29   \n",
       "            PP Population                          6   \n",
       "            Overall                               29   \n",
       "\n",
       "                            Senior younger than 11 (less than 55lbs) (n)  \\\n",
       "Demographic Subpopulation                                                  \n",
       "Age         ITT Population                                            26   \n",
       "            PP Population                                             13   \n",
       "            Overall                                                   27   \n",
       "\n",
       "                            Senior older than 11 (less than 55lbs) (n)  \\\n",
       "Demographic Subpopulation                                                \n",
       "Age         ITT Population                                          24   \n",
       "            PP Population                                            5   \n",
       "            Overall                                                 24   \n",
       "\n",
       "                            Senior younger than 7 (n)  \\\n",
       "Demographic Subpopulation                               \n",
       "Age         ITT Population                         14   \n",
       "            PP Population                           7   \n",
       "            Overall                                14   \n",
       "\n",
       "                            Adult (less than 55lbs) (n)  Adult (n)  \\\n",
       "Demographic Subpopulation                                            \n",
       "Age         ITT Population                            3        1.0   \n",
       "            PP Population                             1        NaN   \n",
       "            Overall                                   3        1.0   \n",
       "\n",
       "                            Senior younger than 11 (7+) (%)  \\\n",
       "Demographic Subpopulation                                     \n",
       "Age         ITT Population                             0.28   \n",
       "            PP Population                              0.24   \n",
       "            Overall                                    0.28   \n",
       "\n",
       "                            Senior older than 11 (%)  \\\n",
       "Demographic Subpopulation                              \n",
       "Age         ITT Population                      0.21   \n",
       "            PP Population                       0.14   \n",
       "            Overall                             0.21   \n",
       "\n",
       "                            Senior younger than 11 (less than 55lbs) (%)  \\\n",
       "Demographic Subpopulation                                                  \n",
       "Age         ITT Population                                          0.19   \n",
       "            PP Population                                           0.31   \n",
       "            Overall                                                 0.20   \n",
       "\n",
       "                            Senior older than 11 (less than 55lbs) (%)  \\\n",
       "Demographic Subpopulation                                                \n",
       "Age         ITT Population                                        0.18   \n",
       "            PP Population                                         0.12   \n",
       "            Overall                                               0.18   \n",
       "\n",
       "                            Senior younger than 7 (%)  \\\n",
       "Demographic Subpopulation                               \n",
       "Age         ITT Population                       0.10   \n",
       "            PP Population                        0.17   \n",
       "            Overall                              0.10   \n",
       "\n",
       "                            Adult (less than 55lbs) (%)  Adult (%)  \n",
       "Demographic Subpopulation                                           \n",
       "Age         ITT Population                         0.02       0.01  \n",
       "            PP Population                          0.02        NaN  \n",
       "            Overall                                0.02       0.01  "
      ]
     },
     "metadata": {},
     "output_type": "display_data"
    }
   ],
   "source": [
    "display(statistics_numerical_categorical_itt_pp(demographics_age_byweight, 'Age', 'Day 0 age', 'Age.byweight'))"
   ]
  },
  {
   "cell_type": "code",
   "execution_count": 31,
   "id": "33229c87-f8e6-4b73-8e4e-8446358bcd99",
   "metadata": {},
   "outputs": [
    {
     "name": "stdout",
     "output_type": "stream",
     "text": [
      "ITT and PP Population\n",
      "                  Chi-squared test results                 \n",
      "===========================================================\n",
      "        Statistic P-value             Conclusion           \n",
      "-----------------------------------------------------------\n",
      "Results      4.78    0.31 Do not reject the null hypothesis\n",
      "-----------------------------------------------------------\n",
      "Outcome: The p-value is greater than or equal to 0.05,\n",
      "suggesting that there is not enough evidence to reject\n",
      "the null hypothesis. There is no significant\n",
      "difference between the ITT and PP population using\n",
      "Age.byweight as the categorical variable.\n",
      "===========================================================\n",
      "\n",
      "\n"
     ]
    }
   ],
   "source": [
    "op = statistical_test_difference(get_value_counts_as_per_chi_2(demographics_age_byweight, 'Age.byweight'), 'Age', 'Age.byweight', alpha=0.05)"
   ]
  },
  {
   "cell_type": "markdown",
   "id": "44531d08-8835-4ca3-94d9-2f7de50c90c1",
   "metadata": {},
   "source": [
    "## Gender"
   ]
  },
  {
   "cell_type": "code",
   "execution_count": 32,
   "id": "e8353c7a-10fc-4bf2-a3a2-5e19641da8a9",
   "metadata": {},
   "outputs": [
    {
     "data": {
      "text/plain": [
       "Spayed Female    5496\n",
       "Neutered Male    5020\n",
       "Intact Male       222\n",
       "Name: DEMOGRAPHICS-gender, dtype: int64"
      ]
     },
     "execution_count": 32,
     "metadata": {},
     "output_type": "execute_result"
    }
   ],
   "source": [
    "data1['DEMOGRAPHICS-gender'].value_counts()"
   ]
  },
  {
   "cell_type": "code",
   "execution_count": 33,
   "id": "4847cb48-91db-4471-abf3-27caaf6a6745",
   "metadata": {},
   "outputs": [],
   "source": [
    "def get_gender_name(x):\n",
    "    nan = float(\"NaN\")\n",
    "    try:\n",
    "        if isinstance(x,float):\n",
    "            return np.nan\n",
    "        elif isinstance(x,str):\n",
    "            return x.split(' ')[1]\n",
    "    except Exception as e:\n",
    "        print(x)\n",
    "        print(e)\n",
    "def get_gender_status(x):\n",
    "    nan = float(\"NaN\")\n",
    "    try:\n",
    "        if isinstance(x,float):\n",
    "            return np.nan\n",
    "        elif isinstance(x,str):\n",
    "            return x.split(' ')[0]\n",
    "    except Exception as e:\n",
    "        print(x)\n",
    "        print(e)"
   ]
  },
  {
   "cell_type": "code",
   "execution_count": 34,
   "id": "14d5f1f9-0939-4922-a556-bb1ccb0c0716",
   "metadata": {},
   "outputs": [],
   "source": [
    "demographics_gender = demog_df.groupby(['PET_ID']).agg({'Gender':'first',\n",
    "                                                             'wearables_itt':'first',\n",
    "                                                             'wearables_pp':'first'}).reset_index()\n",
    "demographics_gender['Gender'] = demographics_gender['Gender'].replace('0',np.nan)\n",
    "demographics_gender['Gender.name'] = [get_gender_name(x) for x in demographics_gender['Gender'].values]\n",
    "demographics_gender['Gender.sterilization'] = [get_gender_status(x) for x in demographics_gender['Gender'].values]"
   ]
  },
  {
   "cell_type": "markdown",
   "id": "5458ce85-16d5-41eb-82f0-3a1b2210affa",
   "metadata": {},
   "source": [
    "### Gender table"
   ]
  },
  {
   "cell_type": "code",
   "execution_count": 35,
   "id": "3f543e65-f11d-4178-a5f6-2b9eb1421610",
   "metadata": {},
   "outputs": [
    {
     "data": {
      "text/plain": [
       "Female    70\n",
       "Male      64\n",
       "Name: Gender.name, dtype: int64"
      ]
     },
     "execution_count": 35,
     "metadata": {},
     "output_type": "execute_result"
    }
   ],
   "source": [
    "demographics_gender['Gender.name'].value_counts()"
   ]
  },
  {
   "cell_type": "code",
   "execution_count": 36,
   "id": "717ef1b5-9212-4968-b70a-358b05afc294",
   "metadata": {},
   "outputs": [
    {
     "data": {
      "text/html": [
       "<div>\n",
       "<style scoped>\n",
       "    .dataframe tbody tr th:only-of-type {\n",
       "        vertical-align: middle;\n",
       "    }\n",
       "\n",
       "    .dataframe tbody tr th {\n",
       "        vertical-align: top;\n",
       "    }\n",
       "\n",
       "    .dataframe thead th {\n",
       "        text-align: right;\n",
       "    }\n",
       "</style>\n",
       "<table border=\"1\" class=\"dataframe\">\n",
       "  <thead>\n",
       "    <tr style=\"text-align: right;\">\n",
       "      <th></th>\n",
       "      <th></th>\n",
       "      <th></th>\n",
       "      <th>Gender (n)</th>\n",
       "      <th>Gender (%)</th>\n",
       "    </tr>\n",
       "    <tr>\n",
       "      <th>Demographic</th>\n",
       "      <th>Subpopulation</th>\n",
       "      <th></th>\n",
       "      <th></th>\n",
       "      <th></th>\n",
       "    </tr>\n",
       "  </thead>\n",
       "  <tbody>\n",
       "    <tr>\n",
       "      <th rowspan=\"6\" valign=\"top\">Gender</th>\n",
       "      <th rowspan=\"2\" valign=\"top\">ITT subpopulation</th>\n",
       "      <th>Female</th>\n",
       "      <td>69</td>\n",
       "      <td>0.52</td>\n",
       "    </tr>\n",
       "    <tr>\n",
       "      <th>Male</th>\n",
       "      <td>64</td>\n",
       "      <td>0.48</td>\n",
       "    </tr>\n",
       "    <tr>\n",
       "      <th rowspan=\"2\" valign=\"top\">PP subpopulation</th>\n",
       "      <th>Male</th>\n",
       "      <td>21</td>\n",
       "      <td>0.51</td>\n",
       "    </tr>\n",
       "    <tr>\n",
       "      <th>Female</th>\n",
       "      <td>20</td>\n",
       "      <td>0.49</td>\n",
       "    </tr>\n",
       "    <tr>\n",
       "      <th rowspan=\"2\" valign=\"top\">Overall subpopulation</th>\n",
       "      <th>Female</th>\n",
       "      <td>70</td>\n",
       "      <td>0.52</td>\n",
       "    </tr>\n",
       "    <tr>\n",
       "      <th>Male</th>\n",
       "      <td>64</td>\n",
       "      <td>0.48</td>\n",
       "    </tr>\n",
       "  </tbody>\n",
       "</table>\n",
       "</div>"
      ],
      "text/plain": [
       "                                           Gender (n)  Gender (%)\n",
       "Demographic Subpopulation                                        \n",
       "Gender      ITT subpopulation     Female           69        0.52\n",
       "                                  Male             64        0.48\n",
       "            PP subpopulation      Male             21        0.51\n",
       "                                  Female           20        0.49\n",
       "            Overall subpopulation Female           70        0.52\n",
       "                                  Male             64        0.48"
      ]
     },
     "metadata": {},
     "output_type": "display_data"
    }
   ],
   "source": [
    "display(statistics_by_categorical_itt_pp(demographics_gender, 'Gender', 'Gender.name'))"
   ]
  },
  {
   "cell_type": "markdown",
   "id": "8870c176-8663-49c0-93ca-d4e08328fdf7",
   "metadata": {},
   "source": [
    "### Gender statistical test"
   ]
  },
  {
   "cell_type": "code",
   "execution_count": 37,
   "id": "6707f156-6367-4e46-9b73-ef83fea1f47f",
   "metadata": {},
   "outputs": [
    {
     "name": "stdout",
     "output_type": "stream",
     "text": [
      "ITT and PP Population\n",
      "                  Chi-squared test results                 \n",
      "===========================================================\n",
      "        Statistic P-value             Conclusion           \n",
      "-----------------------------------------------------------\n",
      "Results      0.03    0.87 Do not reject the null hypothesis\n",
      "-----------------------------------------------------------\n",
      "Outcome: The p-value is greater than or equal to 0.05,\n",
      "suggesting that there is not enough evidence to reject\n",
      "the null hypothesis. There is no significant\n",
      "difference between the ITT and PP population using\n",
      "Gender.name as the categorical variable.\n",
      "===========================================================\n",
      "\n",
      "\n"
     ]
    }
   ],
   "source": [
    "statistical_test_difference(get_value_counts_as_per_chi_2(demographics_gender, 'Gender.name'), 'Gender', 'Gender.name', alpha=0.05)"
   ]
  },
  {
   "cell_type": "markdown",
   "id": "c4787946-0b40-451b-a5e1-81f878fe9cb0",
   "metadata": {},
   "source": [
    "### Gender sterilization table"
   ]
  },
  {
   "cell_type": "code",
   "execution_count": 38,
   "id": "ddd5639d-4a8d-4493-b3ac-495938335327",
   "metadata": {},
   "outputs": [
    {
     "data": {
      "text/html": [
       "<div>\n",
       "<style scoped>\n",
       "    .dataframe tbody tr th:only-of-type {\n",
       "        vertical-align: middle;\n",
       "    }\n",
       "\n",
       "    .dataframe tbody tr th {\n",
       "        vertical-align: top;\n",
       "    }\n",
       "\n",
       "    .dataframe thead th {\n",
       "        text-align: right;\n",
       "    }\n",
       "</style>\n",
       "<table border=\"1\" class=\"dataframe\">\n",
       "  <thead>\n",
       "    <tr style=\"text-align: right;\">\n",
       "      <th></th>\n",
       "      <th></th>\n",
       "      <th></th>\n",
       "      <th>Gender (n)</th>\n",
       "      <th>Gender (%)</th>\n",
       "    </tr>\n",
       "    <tr>\n",
       "      <th>Demographic</th>\n",
       "      <th>Subpopulation</th>\n",
       "      <th></th>\n",
       "      <th></th>\n",
       "      <th></th>\n",
       "    </tr>\n",
       "  </thead>\n",
       "  <tbody>\n",
       "    <tr>\n",
       "      <th rowspan=\"8\" valign=\"top\">Gender</th>\n",
       "      <th rowspan=\"3\" valign=\"top\">ITT subpopulation</th>\n",
       "      <th>Spayed</th>\n",
       "      <td>69</td>\n",
       "      <td>0.52</td>\n",
       "    </tr>\n",
       "    <tr>\n",
       "      <th>Neutered</th>\n",
       "      <td>61</td>\n",
       "      <td>0.46</td>\n",
       "    </tr>\n",
       "    <tr>\n",
       "      <th>Intact</th>\n",
       "      <td>3</td>\n",
       "      <td>0.02</td>\n",
       "    </tr>\n",
       "    <tr>\n",
       "      <th rowspan=\"2\" valign=\"top\">PP subpopulation</th>\n",
       "      <th>Neutered</th>\n",
       "      <td>21</td>\n",
       "      <td>0.51</td>\n",
       "    </tr>\n",
       "    <tr>\n",
       "      <th>Spayed</th>\n",
       "      <td>20</td>\n",
       "      <td>0.49</td>\n",
       "    </tr>\n",
       "    <tr>\n",
       "      <th rowspan=\"3\" valign=\"top\">Overall subpopulation</th>\n",
       "      <th>Spayed</th>\n",
       "      <td>70</td>\n",
       "      <td>0.52</td>\n",
       "    </tr>\n",
       "    <tr>\n",
       "      <th>Neutered</th>\n",
       "      <td>61</td>\n",
       "      <td>0.46</td>\n",
       "    </tr>\n",
       "    <tr>\n",
       "      <th>Intact</th>\n",
       "      <td>3</td>\n",
       "      <td>0.02</td>\n",
       "    </tr>\n",
       "  </tbody>\n",
       "</table>\n",
       "</div>"
      ],
      "text/plain": [
       "                                             Gender (n)  Gender (%)\n",
       "Demographic Subpopulation                                          \n",
       "Gender      ITT subpopulation     Spayed             69        0.52\n",
       "                                  Neutered           61        0.46\n",
       "                                  Intact              3        0.02\n",
       "            PP subpopulation      Neutered           21        0.51\n",
       "                                  Spayed             20        0.49\n",
       "            Overall subpopulation Spayed             70        0.52\n",
       "                                  Neutered           61        0.46\n",
       "                                  Intact              3        0.02"
      ]
     },
     "execution_count": 38,
     "metadata": {},
     "output_type": "execute_result"
    }
   ],
   "source": [
    "statistics_by_categorical_itt_pp(demographics_gender, 'Gender', 'Gender.sterilization')"
   ]
  },
  {
   "cell_type": "markdown",
   "id": "d2fa0c74-570e-4c99-a4d6-75a1f2ba833a",
   "metadata": {},
   "source": [
    "### Gender sterilization statistical test"
   ]
  },
  {
   "cell_type": "code",
   "execution_count": 39,
   "id": "2bfc519c-38d0-4af6-a07b-43a84447b240",
   "metadata": {},
   "outputs": [
    {
     "name": "stdout",
     "output_type": "stream",
     "text": [
      "ITT and PP Population\n",
      "                  Chi-squared test results                 \n",
      "===========================================================\n",
      "        Statistic P-value             Conclusion           \n",
      "-----------------------------------------------------------\n",
      "Results      0.09    0.76 Do not reject the null hypothesis\n",
      "-----------------------------------------------------------\n",
      "Outcome: The p-value is greater than or equal to 0.05,\n",
      "suggesting that there is not enough evidence to reject\n",
      "the null hypothesis. There is no significant\n",
      "difference between the ITT and PP population using\n",
      "Gender.sterilization as the categorical variable.\n",
      "===========================================================\n",
      "\n",
      "\n"
     ]
    }
   ],
   "source": [
    "statistical_test_difference(get_value_counts_as_per_chi_2(demographics_gender, 'Gender.sterilization'), 'Gender', 'Gender.sterilization', alpha=0.05)"
   ]
  },
  {
   "cell_type": "markdown",
   "id": "3b3065da-dc8d-43fa-b579-76006ccdad74",
   "metadata": {},
   "source": [
    "## Body weight"
   ]
  },
  {
   "cell_type": "code",
   "execution_count": 40,
   "id": "728f2da9-1649-44be-91c1-af30ce756ec7",
   "metadata": {},
   "outputs": [],
   "source": [
    "def body_weight_category(x):\n",
    "    if x is np.nan:\n",
    "        return np.nan\n",
    "    elif x>0 and x<=20:\n",
    "        return 'up to 20 lbs'\n",
    "    elif x>20 and x<=50:\n",
    "        return '>20 lbs & <=50 lbs'\n",
    "    elif x>50:\n",
    "        return '>50 lbs'"
   ]
  },
  {
   "cell_type": "code",
   "execution_count": 41,
   "id": "d70e68d6-b7c9-4cfa-8ad8-0935f5271573",
   "metadata": {},
   "outputs": [
    {
     "data": {
      "text/plain": [
       "array([ 62.8,  63. ,  55. ,  65. ,  71. ,  52.8,  47. ,  63.8,  95.8,\n",
       "         nan,  68.4, 108. ,  33. ,  45. ,  92. ,  48. ,  50. ,  61. ,\n",
       "        47.4,  15. ,  57.2,  30.2,  73.4,  50.6,  59. ,  36.8,  25.4,\n",
       "        43.2,  70.5,  25. ,  53.8,  97.3,  57.4,  52. ,  64.2,  63.6,\n",
       "        35.6,  37.5,  53.9,  40. ,  75. ,  72.4,  36.4,  20.9,  87.6,\n",
       "        58. ,  51.6,  40.7,  73.6,  71.5,  58.8,  47.5,  56. ,  72. ,\n",
       "        61.5, 135.8,  29.6,  35.2,  88.5,  24.3,  46. ,  96. ,  61.8,\n",
       "        24.8,  60.5,  68.8,  27. ,  95. ,  23. ,  67. ,  16. ,  58.5,\n",
       "        85. ,  70. ,  28. ,  36. ,  25.5,  62.5,  89. ,  69.3,  75.8,\n",
       "        60.4, 124.6,  51. ,  35. ,  60. ,  19. ,  32.5,  49.3,  74.5,\n",
       "       115. ,  53.7,  17. ,  34.9,  68.7,  81.5])"
      ]
     },
     "execution_count": 41,
     "metadata": {},
     "output_type": "execute_result"
    }
   ],
   "source": [
    "demographics_body_weight = demog_df.groupby(['PET_ID']).agg({'Day 0 body weight':'first',\n",
    "                                                                  'wearables_itt':'first',\n",
    "                                                                  'wearables_pp':'first'}).reset_index()\n",
    "demographics_body_weight['Day 0 body weight'].unique()"
   ]
  },
  {
   "cell_type": "code",
   "execution_count": 42,
   "id": "1493720c-4491-4543-a4fc-9b8a18082c78",
   "metadata": {
    "tags": []
   },
   "outputs": [],
   "source": [
    "demographics_body_weight['Day 0 body weight'] = [float(x) if x is not np.nan else np.nan for x in demographics_body_weight['Day 0 body weight'].values]\n",
    "demographics_body_weight['Day 0 body weight (category)'] = [body_weight_category(x) for x in demographics_body_weight['Day 0 body weight'].values]"
   ]
  },
  {
   "cell_type": "code",
   "execution_count": 43,
   "id": "791c0640-5d95-4098-9964-3a2915f4b2a2",
   "metadata": {},
   "outputs": [
    {
     "data": {
      "text/plain": [
       ">50 lbs               72\n",
       ">20 lbs & <=50 lbs    38\n",
       "up to 20 lbs           8\n",
       "Name: Day 0 body weight (category), dtype: int64"
      ]
     },
     "execution_count": 43,
     "metadata": {},
     "output_type": "execute_result"
    }
   ],
   "source": [
    "demographics_body_weight['Day 0 body weight (category)'].value_counts()"
   ]
  },
  {
   "cell_type": "markdown",
   "id": "e8acbbe4-9343-4823-8914-328bea921531",
   "metadata": {},
   "source": [
    "### Body weight table"
   ]
  },
  {
   "cell_type": "code",
   "execution_count": 44,
   "id": "2b9cf7e9-871f-4c2c-856b-2bf17630066f",
   "metadata": {},
   "outputs": [
    {
     "data": {
      "text/html": [
       "<div>\n",
       "<style scoped>\n",
       "    .dataframe tbody tr th:only-of-type {\n",
       "        vertical-align: middle;\n",
       "    }\n",
       "\n",
       "    .dataframe tbody tr th {\n",
       "        vertical-align: top;\n",
       "    }\n",
       "\n",
       "    .dataframe thead th {\n",
       "        text-align: right;\n",
       "    }\n",
       "</style>\n",
       "<table border=\"1\" class=\"dataframe\">\n",
       "  <thead>\n",
       "    <tr style=\"text-align: right;\">\n",
       "      <th></th>\n",
       "      <th></th>\n",
       "      <th></th>\n",
       "      <th>Day 0 body weight (n)</th>\n",
       "      <th>Day 0 body weight (%)</th>\n",
       "    </tr>\n",
       "    <tr>\n",
       "      <th>Demographic</th>\n",
       "      <th>Subpopulation</th>\n",
       "      <th></th>\n",
       "      <th></th>\n",
       "      <th></th>\n",
       "    </tr>\n",
       "  </thead>\n",
       "  <tbody>\n",
       "    <tr>\n",
       "      <th rowspan=\"9\" valign=\"top\">Day 0 body weight</th>\n",
       "      <th rowspan=\"3\" valign=\"top\">ITT subpopulation</th>\n",
       "      <th>&gt;50 lbs</th>\n",
       "      <td>72</td>\n",
       "      <td>0.62</td>\n",
       "    </tr>\n",
       "    <tr>\n",
       "      <th>&gt;20 lbs &amp; &lt;=50 lbs</th>\n",
       "      <td>37</td>\n",
       "      <td>0.32</td>\n",
       "    </tr>\n",
       "    <tr>\n",
       "      <th>up to 20 lbs</th>\n",
       "      <td>8</td>\n",
       "      <td>0.07</td>\n",
       "    </tr>\n",
       "    <tr>\n",
       "      <th rowspan=\"3\" valign=\"top\">PP subpopulation</th>\n",
       "      <th>&gt;50 lbs</th>\n",
       "      <td>24</td>\n",
       "      <td>0.62</td>\n",
       "    </tr>\n",
       "    <tr>\n",
       "      <th>&gt;20 lbs &amp; &lt;=50 lbs</th>\n",
       "      <td>14</td>\n",
       "      <td>0.36</td>\n",
       "    </tr>\n",
       "    <tr>\n",
       "      <th>up to 20 lbs</th>\n",
       "      <td>1</td>\n",
       "      <td>0.03</td>\n",
       "    </tr>\n",
       "    <tr>\n",
       "      <th rowspan=\"3\" valign=\"top\">Overall subpopulation</th>\n",
       "      <th>&gt;50 lbs</th>\n",
       "      <td>72</td>\n",
       "      <td>0.61</td>\n",
       "    </tr>\n",
       "    <tr>\n",
       "      <th>&gt;20 lbs &amp; &lt;=50 lbs</th>\n",
       "      <td>38</td>\n",
       "      <td>0.32</td>\n",
       "    </tr>\n",
       "    <tr>\n",
       "      <th>up to 20 lbs</th>\n",
       "      <td>8</td>\n",
       "      <td>0.07</td>\n",
       "    </tr>\n",
       "  </tbody>\n",
       "</table>\n",
       "</div>"
      ],
      "text/plain": [
       "                                                             Day 0 body weight (n)  \\\n",
       "Demographic       Subpopulation                                                      \n",
       "Day 0 body weight ITT subpopulation     >50 lbs                                 72   \n",
       "                                        >20 lbs & <=50 lbs                      37   \n",
       "                                        up to 20 lbs                             8   \n",
       "                  PP subpopulation      >50 lbs                                 24   \n",
       "                                        >20 lbs & <=50 lbs                      14   \n",
       "                                        up to 20 lbs                             1   \n",
       "                  Overall subpopulation >50 lbs                                 72   \n",
       "                                        >20 lbs & <=50 lbs                      38   \n",
       "                                        up to 20 lbs                             8   \n",
       "\n",
       "                                                             Day 0 body weight (%)  \n",
       "Demographic       Subpopulation                                                     \n",
       "Day 0 body weight ITT subpopulation     >50 lbs                               0.62  \n",
       "                                        >20 lbs & <=50 lbs                    0.32  \n",
       "                                        up to 20 lbs                          0.07  \n",
       "                  PP subpopulation      >50 lbs                               0.62  \n",
       "                                        >20 lbs & <=50 lbs                    0.36  \n",
       "                                        up to 20 lbs                          0.03  \n",
       "                  Overall subpopulation >50 lbs                               0.61  \n",
       "                                        >20 lbs & <=50 lbs                    0.32  \n",
       "                                        up to 20 lbs                          0.07  "
      ]
     },
     "execution_count": 44,
     "metadata": {},
     "output_type": "execute_result"
    }
   ],
   "source": [
    "statistics_by_categorical_itt_pp(demographics_body_weight, 'Day 0 body weight', 'Day 0 body weight (category)')"
   ]
  },
  {
   "cell_type": "markdown",
   "id": "1f1c01a6-cbd2-4b5c-85e3-a2a34af794cb",
   "metadata": {},
   "source": [
    "### Body weight numerical statistical test"
   ]
  },
  {
   "cell_type": "code",
   "execution_count": 45,
   "id": "584fda87-f730-47f0-92dc-3d032e98088e",
   "metadata": {},
   "outputs": [
    {
     "name": "stdout",
     "output_type": "stream",
     "text": [
      "=================================================================\n",
      "Mann Whitney test for Day 0 body weight\n",
      "===================================================================\n",
      "ITT vs PP:\n",
      "-------------------------------------------------------------------\n",
      "Statistic: 2296.50, p-value: 0.95\n",
      "-------------------------------------------------------------------\n",
      "Outcome:\n",
      "Cannot reject the NULL hypothesis\n",
      "No significant difference between the two groups based on Day 0 body weight\n"
     ]
    }
   ],
   "source": [
    "numerical_stat_test_report(demographics_body_weight, 'Day 0 body weight')"
   ]
  },
  {
   "cell_type": "markdown",
   "id": "46e754b7-ea22-4b72-a37e-5fb4e25cc5e6",
   "metadata": {
    "tags": []
   },
   "source": [
    "### Body weight statistical test"
   ]
  },
  {
   "cell_type": "code",
   "execution_count": 46,
   "id": "63d757d0-517e-4005-9d77-c5ecf9541938",
   "metadata": {},
   "outputs": [
    {
     "name": "stdout",
     "output_type": "stream",
     "text": [
      "ITT and PP Population\n",
      "                  Chi-squared test results                 \n",
      "===========================================================\n",
      "        Statistic P-value             Conclusion           \n",
      "-----------------------------------------------------------\n",
      "Results      0.02     0.9 Do not reject the null hypothesis\n",
      "-----------------------------------------------------------\n",
      "Outcome: The p-value is greater than or equal to 0.05,\n",
      "suggesting that there is not enough evidence to reject\n",
      "the null hypothesis. There is no significant\n",
      "difference between the ITT and PP population using Day\n",
      "0 body weight (category) as the categorical variable.\n",
      "===========================================================\n",
      "\n",
      "\n"
     ]
    }
   ],
   "source": [
    "statistical_test_difference(get_value_counts_as_per_chi_2(demographics_body_weight, 'Day 0 body weight (category)'), 'Day 0 body weight', 'Day 0 body weight (category)', alpha=0.05)"
   ]
  },
  {
   "cell_type": "markdown",
   "id": "ee1eeae3-44e9-4542-ab94-a859d66722fa",
   "metadata": {},
   "source": [
    "## Medication"
   ]
  },
  {
   "cell_type": "code",
   "execution_count": 47,
   "id": "5694e0af-d547-4129-9777-433538d17a10",
   "metadata": {
    "tags": []
   },
   "outputs": [
    {
     "name": "stderr",
     "output_type": "stream",
     "text": [
      "/opt/conda/envs/hillsadvancedml_envi/lib/python3.7/site-packages/ipykernel_launcher.py:1: SettingWithCopyWarning: \n",
      "A value is trying to be set on a copy of a slice from a DataFrame.\n",
      "Try using .loc[row_indexer,col_indexer] = value instead\n",
      "\n",
      "See the caveats in the documentation: https://pandas.pydata.org/pandas-docs/stable/user_guide/indexing.html#returning-a-view-versus-a-copy\n",
      "  \"\"\"Entry point for launching an IPython kernel.\n",
      "/opt/conda/envs/hillsadvancedml_envi/lib/python3.7/site-packages/ipykernel_launcher.py:11: SettingWithCopyWarning: \n",
      "A value is trying to be set on a copy of a slice from a DataFrame.\n",
      "Try using .loc[row_indexer,col_indexer] = value instead\n",
      "\n",
      "See the caveats in the documentation: https://pandas.pydata.org/pandas-docs/stable/user_guide/indexing.html#returning-a-view-versus-a-copy\n",
      "  # This is added back by InteractiveShellApp.init_path()\n"
     ]
    }
   ],
   "source": [
    "demog_df['medication_split'] = demog_df['Baseline period pain medications'].str.split(',')\n",
    "\n",
    "# Define a function to extract the value before the last '-' from each item and return as a joined string\n",
    "def extract_medication_class(item):\n",
    "    if isinstance(item, list):\n",
    "        return ', '.join([x.strip().rsplit('-', 1)[0] for x in item])\n",
    "    else:\n",
    "        return ''\n",
    "\n",
    "# Apply the function to create a new column 'medication.class'\n",
    "demog_df['medication.class'] = demog_df['medication_split'].apply(extract_medication_class)"
   ]
  },
  {
   "cell_type": "code",
   "execution_count": 48,
   "id": "eba6385d-9eb3-4346-8f21-d5ddb10c0519",
   "metadata": {},
   "outputs": [],
   "source": [
    "def statistics_for_subpopulation(df, attribute_name, categorical_col, subpopulation_name):\n",
    "    \n",
    "    # Filter rows with 'Pain medications' and 'NSAID Medications'\n",
    "    pain_medication_df = df[df[categorical_col].str.contains('Pain medication', case=False)]\n",
    "    nsaid_df = df[df[categorical_col].str.contains('(NSAID)', case=False)]\n",
    "\n",
    "    # Count of 'Pain medications' and 'NSAID Medications'\n",
    "    count_pain_medication = len(pain_medication_df)\n",
    "    count_nsaid = len(nsaid_df)\n",
    "\n",
    "    # Percentage using 'Pain medications' and 'NSAID Medications'\n",
    "    total_records = len(df)\n",
    "    percentage_pain_medication = (count_pain_medication / total_records) * 100\n",
    "    percentage_nsaid = (count_nsaid / total_records) * 100\n",
    "\n",
    "    # Creating DataFrames with the results\n",
    "    result_df_pain_medication = pd.DataFrame({\n",
    "        'Demographic': [attribute_name],\n",
    "        'Subpopulation': [subpopulation_name],\n",
    "        'Medication': ['Pain Medications'],\n",
    "        'Medications(n)': [count_pain_medication],\n",
    "        'Medications (%)': [percentage_pain_medication],\n",
    "    })\n",
    "\n",
    "    result_df_nsaid = pd.DataFrame({\n",
    "        'Demographic': [attribute_name],\n",
    "        'Subpopulation': [subpopulation_name],\n",
    "        'Medication': ['NSAID Medications'],\n",
    "        'Medications(n)': [count_nsaid],\n",
    "        'Medications (%)': [percentage_nsaid],\n",
    "    })\n",
    "\n",
    "    return result_df_pain_medication, result_df_nsaid"
   ]
  },
  {
   "cell_type": "code",
   "execution_count": 49,
   "id": "6fef9ff3-a931-4d3f-9259-805b92559acf",
   "metadata": {},
   "outputs": [
    {
     "name": "stderr",
     "output_type": "stream",
     "text": [
      "/opt/conda/envs/hillsadvancedml_envi/lib/python3.7/site-packages/pandas/core/strings.py:2001: UserWarning: This pattern has match groups. To actually get the groups, use str.extract.\n",
      "  return func(self, *args, **kwargs)\n",
      "/opt/conda/envs/hillsadvancedml_envi/lib/python3.7/site-packages/pandas/core/strings.py:2001: UserWarning: This pattern has match groups. To actually get the groups, use str.extract.\n",
      "  return func(self, *args, **kwargs)\n"
     ]
    }
   ],
   "source": [
    "# Return the dataset prepared for medication calss\n",
    "demog_by_subpop = []\n",
    "    \n",
    "# ITT subpopulation\n",
    "itt_sub_pop_df = demog_df[demog_df['wearables_itt'].eq(True)]\n",
    "itt_sub_pop_pain, itt_sub_pop_nsaid = statistics_for_subpopulation(itt_sub_pop_df, 'Medication class', 'medication.class', 'ITT Population')\n",
    "demog_by_subpop.append(itt_sub_pop_pain)\n",
    "demog_by_subpop.append(itt_sub_pop_nsaid)\n",
    "\n",
    "# PP subpopulation\n",
    "pp_sub_pop_df = demog_df[demog_df['wearables_pp'].eq(True)]\n",
    "pp_sub_pop_pain, pp_sub_pop_nsaid = statistics_for_subpopulation(pp_sub_pop_df, 'Medication class', 'medication.class', 'PP Population')\n",
    "demog_by_subpop.append(pp_sub_pop_pain)\n",
    "demog_by_subpop.append(pp_sub_pop_nsaid)\n",
    "\n",
    "# Overall population metrics\n",
    "overall_pop_pain, overall_pop_nsaid = statistics_for_subpopulation(demog_df, 'Medication class', 'medication.class', 'Overall Population')\n",
    "demog_by_subpop.append(overall_pop_pain)\n",
    "demog_by_subpop.append(overall_pop_nsaid)\n",
    "\n",
    "result_df = pd.concat(demog_by_subpop, ignore_index=True)\n"
   ]
  },
  {
   "cell_type": "code",
   "execution_count": 50,
   "id": "08d2cd6c-e6ee-414e-bcbf-c38d5254a993",
   "metadata": {},
   "outputs": [
    {
     "data": {
      "text/html": [
       "<div>\n",
       "<style scoped>\n",
       "    .dataframe tbody tr th:only-of-type {\n",
       "        vertical-align: middle;\n",
       "    }\n",
       "\n",
       "    .dataframe tbody tr th {\n",
       "        vertical-align: top;\n",
       "    }\n",
       "\n",
       "    .dataframe thead th {\n",
       "        text-align: right;\n",
       "    }\n",
       "</style>\n",
       "<table border=\"1\" class=\"dataframe\">\n",
       "  <thead>\n",
       "    <tr style=\"text-align: right;\">\n",
       "      <th></th>\n",
       "      <th></th>\n",
       "      <th>Medication</th>\n",
       "      <th>Medications(n)</th>\n",
       "      <th>Medications (%)</th>\n",
       "    </tr>\n",
       "    <tr>\n",
       "      <th>Demographic</th>\n",
       "      <th>Subpopulation</th>\n",
       "      <th></th>\n",
       "      <th></th>\n",
       "      <th></th>\n",
       "    </tr>\n",
       "  </thead>\n",
       "  <tbody>\n",
       "    <tr>\n",
       "      <th rowspan=\"6\" valign=\"top\">Medication class</th>\n",
       "      <th>ITT Population</th>\n",
       "      <td>Pain Medications</td>\n",
       "      <td>1</td>\n",
       "      <td>0.009230</td>\n",
       "    </tr>\n",
       "    <tr>\n",
       "      <th></th>\n",
       "      <td>NSAID Medications</td>\n",
       "      <td>4</td>\n",
       "      <td>0.036921</td>\n",
       "    </tr>\n",
       "    <tr>\n",
       "      <th>PP Population</th>\n",
       "      <td>Pain Medications</td>\n",
       "      <td>0</td>\n",
       "      <td>0.000000</td>\n",
       "    </tr>\n",
       "    <tr>\n",
       "      <th></th>\n",
       "      <td>NSAID Medications</td>\n",
       "      <td>2</td>\n",
       "      <td>0.041771</td>\n",
       "    </tr>\n",
       "    <tr>\n",
       "      <th>Overall Population</th>\n",
       "      <td>Pain Medications</td>\n",
       "      <td>1</td>\n",
       "      <td>0.009216</td>\n",
       "    </tr>\n",
       "    <tr>\n",
       "      <th></th>\n",
       "      <td>NSAID Medications</td>\n",
       "      <td>4</td>\n",
       "      <td>0.036863</td>\n",
       "    </tr>\n",
       "  </tbody>\n",
       "</table>\n",
       "</div>"
      ],
      "text/plain": [
       "                                            Medication  Medications(n)  \\\n",
       "Demographic      Subpopulation                                           \n",
       "Medication class ITT Population       Pain Medications               1   \n",
       "                                     NSAID Medications               4   \n",
       "                 PP Population        Pain Medications               0   \n",
       "                                     NSAID Medications               2   \n",
       "                 Overall Population   Pain Medications               1   \n",
       "                                     NSAID Medications               4   \n",
       "\n",
       "                                     Medications (%)  \n",
       "Demographic      Subpopulation                        \n",
       "Medication class ITT Population             0.009230  \n",
       "                                            0.036921  \n",
       "                 PP Population              0.000000  \n",
       "                                            0.041771  \n",
       "                 Overall Population         0.009216  \n",
       "                                            0.036863  "
      ]
     },
     "execution_count": 50,
     "metadata": {},
     "output_type": "execute_result"
    }
   ],
   "source": [
    "# Set Multilevel Index for the medication class dataframe\n",
    "\n",
    "rows_level1 = ['Medication class', 'Medication class', 'Medication class', 'Medication class', 'Medication class', \n",
    "               'Medication class'] \n",
    "rows_level2 = ['ITT Population', 'ITT Population', 'PP Population', 'PP Population', 'Overall Population', 'Overall Population']  \n",
    "result_df.index = pd.MultiIndex.from_arrays([rows_level1, rows_level2], names=['Demographic', 'Subpopulation'])\n",
    "\n",
    "# Create a boolean mask for the first occurrence of each 'Subpopulation' within each 'Demographic'\n",
    "mask = ~result_df.duplicated(subset=['Demographic', 'Subpopulation'], keep='first')\n",
    "\n",
    "# Replace duplicated 'Subpopulation' values with an empty string\n",
    "result_df['Subpopulation'] = result_df['Subpopulation'].where(mask, '')\n",
    "\n",
    "# Set the MultiIndex back\n",
    "result_df.set_index(['Demographic', 'Subpopulation'], inplace=True)\n",
    "\n",
    "result_df"
   ]
  },
  {
   "cell_type": "markdown",
   "id": "d723de10-9b14-402b-951a-6364cfedb3c5",
   "metadata": {},
   "source": [
    "## Unit Test"
   ]
  },
  {
   "cell_type": "code",
   "execution_count": 51,
   "id": "efd8f397-cd47-4b7b-9572-966b3f1a88ce",
   "metadata": {},
   "outputs": [
    {
     "data": {
      "text/plain": [
       "                                                                                              10798\n",
       "Other                                                                                             6\n",
       "Other, Other, Other, Other, Other                                                                 4\n",
       "Other, Other                                                                                      4\n",
       "Other, Other, Other                                                                               3\n",
       "Other, Other, Non-steroidal anti-inflammatory (NSAID), Fatty acid supplement, Other, Other        1\n",
       "Other-Nexgard 24.1, Other-Interceptor 50                                                          1\n",
       "Other-nexguard 60                                                                                 1\n",
       "Other-Bravecto 22, Other-Heartgard plus 25                                                        1\n",
       "Other, Other, Other, Non-steroidal anti-inflammatory (NSAID), Emollient, Other                    1\n",
       "Other, Other-Nexgard 60.1, Other-heartgard plus 50, Other                                         1\n",
       "Other-Heartgard Plus 51                                                                           1\n",
       "Other-heartgard plus 51                                                                           1\n",
       "Other-Bravecto 22, Other-Heartgard 26                                                             1\n",
       "Other, Other, Other-heartgard plus 26                                                             1\n",
       "Other-bravecto 44                                                                                 1\n",
       "Other, Other, Other, Other-Sentinel 51                                                            1\n",
       "Other, Other, Other-Simparica Trio 22                                                             1\n",
       "Other-Sentinel Flavor Tablets Yellow 26                                                           1\n",
       "Antibiotic, Other, Other-Interceptor Plus 25.1, Other-Nexgard 24.1                                1\n",
       "Pain medication, Other, Non-steroidal anti-inflammatory (NSAID), Other-Sentinel 26, Other         1\n",
       "Non-steroidal anti-inflammatory (NSAID), Other-Nexgard 60.1, Other-Heartgard Plus 51              1\n",
       "Antihistamine, Fatty acid supplement, Other                                                       1\n",
       "Other, Other, Other, Other-heartgard 26, Other-nexgard 24                                         1\n",
       "Name: medication.class, dtype: int64"
      ]
     },
     "execution_count": 51,
     "metadata": {},
     "output_type": "execute_result"
    }
   ],
   "source": [
    "demog_df[demog_df['wearables_itt'] == True]['medication.class'].value_counts()"
   ]
  },
  {
   "cell_type": "code",
   "execution_count": 52,
   "id": "9d7d43c8-0607-4d4b-bb44-6e9fedeec33e",
   "metadata": {},
   "outputs": [
    {
     "data": {
      "text/plain": [
       "                                                                                              4774\n",
       "Other, Other, Other                                                                              3\n",
       "Other-Bravecto 22, Other-Heartgard plus 25                                                       1\n",
       "Other, Other, Other, Other-heartgard 26, Other-nexgard 24                                        1\n",
       "Other, Other, Other, Other-Sentinel 51                                                           1\n",
       "Other, Other                                                                                     1\n",
       "Other-bravecto 44                                                                                1\n",
       "Other, Other, Other-heartgard plus 26                                                            1\n",
       "Other-Nexgard 24.1, Other-Interceptor 50                                                         1\n",
       "Other, Other, Non-steroidal anti-inflammatory (NSAID), Fatty acid supplement, Other, Other       1\n",
       "Other-Heartgard Plus 51                                                                          1\n",
       "Non-steroidal anti-inflammatory (NSAID), Other-Nexgard 60.1, Other-Heartgard Plus 51             1\n",
       "Other, Other, Other-Simparica Trio 22                                                            1\n",
       "Name: medication.class, dtype: int64"
      ]
     },
     "execution_count": 52,
     "metadata": {},
     "output_type": "execute_result"
    }
   ],
   "source": [
    "demog_df[demog_df['wearables_pp'] == True]['medication.class'].value_counts()"
   ]
  },
  {
   "cell_type": "markdown",
   "id": "c0d72816-ffe3-4ccb-87ba-e979ab266486",
   "metadata": {},
   "source": [
    "## Site"
   ]
  },
  {
   "cell_type": "code",
   "execution_count": 53,
   "id": "87f52c41-5a50-40a9-947e-6fa6e36c4f64",
   "metadata": {},
   "outputs": [],
   "source": [
    "demographics_site = demog_df.groupby(['PET_ID']).agg({'Site':'first',\n",
    "                                                               'wearables_itt':'first',\n",
    "                                                               'wearables_pp':'first'}).reset_index().replace(float('nan'),np.nan)\n",
    "demographics_site['Site'] = demographics_site['Site'].astype(str)"
   ]
  },
  {
   "cell_type": "code",
   "execution_count": 54,
   "id": "ba044ae1-f96d-44c0-99bb-c2cc110f2762",
   "metadata": {},
   "outputs": [],
   "source": [
    "demographics_site_greater_than_1 = demographics_site[demographics_site['Site']\\\n",
    "                                                     .isin(demographics_site['Site'].value_counts()\\\n",
    "                                                           [demographics_site['Site'].value_counts()>1].index)].reset_index(drop = True)"
   ]
  },
  {
   "cell_type": "code",
   "execution_count": 55,
   "id": "c99ff6b3-aec8-459d-81ab-c639f624bffc",
   "metadata": {},
   "outputs": [
    {
     "data": {
      "text/html": [
       "<div>\n",
       "<style scoped>\n",
       "    .dataframe tbody tr th:only-of-type {\n",
       "        vertical-align: middle;\n",
       "    }\n",
       "\n",
       "    .dataframe tbody tr th {\n",
       "        vertical-align: top;\n",
       "    }\n",
       "\n",
       "    .dataframe thead th {\n",
       "        text-align: right;\n",
       "    }\n",
       "</style>\n",
       "<table border=\"1\" class=\"dataframe\">\n",
       "  <thead>\n",
       "    <tr style=\"text-align: right;\">\n",
       "      <th></th>\n",
       "      <th></th>\n",
       "      <th></th>\n",
       "      <th>Site (n)</th>\n",
       "      <th>Site (%)</th>\n",
       "    </tr>\n",
       "    <tr>\n",
       "      <th>Demographic</th>\n",
       "      <th>Subpopulation</th>\n",
       "      <th></th>\n",
       "      <th></th>\n",
       "      <th></th>\n",
       "    </tr>\n",
       "  </thead>\n",
       "  <tbody>\n",
       "    <tr>\n",
       "      <th rowspan=\"44\" valign=\"top\">Site</th>\n",
       "      <th rowspan=\"16\" valign=\"top\">ITT subpopulation</th>\n",
       "      <th>Raintree</th>\n",
       "      <td>32</td>\n",
       "      <td>0.24</td>\n",
       "    </tr>\n",
       "    <tr>\n",
       "      <th>Quakertown Phase 2</th>\n",
       "      <td>20</td>\n",
       "      <td>0.15</td>\n",
       "    </tr>\n",
       "    <tr>\n",
       "      <th>Quakertown</th>\n",
       "      <td>12</td>\n",
       "      <td>0.09</td>\n",
       "    </tr>\n",
       "    <tr>\n",
       "      <th>Chippens Hill Phase 2</th>\n",
       "      <td>10</td>\n",
       "      <td>0.08</td>\n",
       "    </tr>\n",
       "    <tr>\n",
       "      <th>Braden River</th>\n",
       "      <td>8</td>\n",
       "      <td>0.06</td>\n",
       "    </tr>\n",
       "    <tr>\n",
       "      <th>Northgate</th>\n",
       "      <td>8</td>\n",
       "      <td>0.06</td>\n",
       "    </tr>\n",
       "    <tr>\n",
       "      <th>Blue Hills</th>\n",
       "      <td>6</td>\n",
       "      <td>0.05</td>\n",
       "    </tr>\n",
       "    <tr>\n",
       "      <th>Eastside Animal Hospital</th>\n",
       "      <td>6</td>\n",
       "      <td>0.05</td>\n",
       "    </tr>\n",
       "    <tr>\n",
       "      <th>Stanley Vet Clnic</th>\n",
       "      <td>5</td>\n",
       "      <td>0.04</td>\n",
       "    </tr>\n",
       "    <tr>\n",
       "      <th>Chippens Hill Veterinary Hospital</th>\n",
       "      <td>5</td>\n",
       "      <td>0.04</td>\n",
       "    </tr>\n",
       "    <tr>\n",
       "      <th>Trusty Vet</th>\n",
       "      <td>5</td>\n",
       "      <td>0.04</td>\n",
       "    </tr>\n",
       "    <tr>\n",
       "      <th>Wakarusa Veterinary Hospital</th>\n",
       "      <td>4</td>\n",
       "      <td>0.03</td>\n",
       "    </tr>\n",
       "    <tr>\n",
       "      <th>Animal Doctor</th>\n",
       "      <td>4</td>\n",
       "      <td>0.03</td>\n",
       "    </tr>\n",
       "    <tr>\n",
       "      <th>Family</th>\n",
       "      <td>3</td>\n",
       "      <td>0.02</td>\n",
       "    </tr>\n",
       "    <tr>\n",
       "      <th>Wamego</th>\n",
       "      <td>2</td>\n",
       "      <td>0.02</td>\n",
       "    </tr>\n",
       "    <tr>\n",
       "      <th>nan</th>\n",
       "      <td>2</td>\n",
       "      <td>0.02</td>\n",
       "    </tr>\n",
       "    <tr>\n",
       "      <th rowspan=\"12\" valign=\"top\">PP subpopulation</th>\n",
       "      <th>Quakertown Phase 2</th>\n",
       "      <td>12</td>\n",
       "      <td>0.29</td>\n",
       "    </tr>\n",
       "    <tr>\n",
       "      <th>Raintree</th>\n",
       "      <td>9</td>\n",
       "      <td>0.22</td>\n",
       "    </tr>\n",
       "    <tr>\n",
       "      <th>Quakertown</th>\n",
       "      <td>6</td>\n",
       "      <td>0.15</td>\n",
       "    </tr>\n",
       "    <tr>\n",
       "      <th>Northgate</th>\n",
       "      <td>4</td>\n",
       "      <td>0.10</td>\n",
       "    </tr>\n",
       "    <tr>\n",
       "      <th>Chippens Hill Phase 2</th>\n",
       "      <td>2</td>\n",
       "      <td>0.05</td>\n",
       "    </tr>\n",
       "    <tr>\n",
       "      <th>Eastside Animal Hospital</th>\n",
       "      <td>2</td>\n",
       "      <td>0.05</td>\n",
       "    </tr>\n",
       "    <tr>\n",
       "      <th>Braden River</th>\n",
       "      <td>1</td>\n",
       "      <td>0.02</td>\n",
       "    </tr>\n",
       "    <tr>\n",
       "      <th>Blue Hills</th>\n",
       "      <td>1</td>\n",
       "      <td>0.02</td>\n",
       "    </tr>\n",
       "    <tr>\n",
       "      <th>Stanley Vet Clnic</th>\n",
       "      <td>1</td>\n",
       "      <td>0.02</td>\n",
       "    </tr>\n",
       "    <tr>\n",
       "      <th>Wakarusa Veterinary Hospital</th>\n",
       "      <td>1</td>\n",
       "      <td>0.02</td>\n",
       "    </tr>\n",
       "    <tr>\n",
       "      <th>nan</th>\n",
       "      <td>1</td>\n",
       "      <td>0.02</td>\n",
       "    </tr>\n",
       "    <tr>\n",
       "      <th>Animal Doctor</th>\n",
       "      <td>1</td>\n",
       "      <td>0.02</td>\n",
       "    </tr>\n",
       "    <tr>\n",
       "      <th rowspan=\"16\" valign=\"top\">Overall subpopulation</th>\n",
       "      <th>Raintree</th>\n",
       "      <td>32</td>\n",
       "      <td>0.24</td>\n",
       "    </tr>\n",
       "    <tr>\n",
       "      <th>Quakertown Phase 2</th>\n",
       "      <td>20</td>\n",
       "      <td>0.15</td>\n",
       "    </tr>\n",
       "    <tr>\n",
       "      <th>Quakertown</th>\n",
       "      <td>12</td>\n",
       "      <td>0.09</td>\n",
       "    </tr>\n",
       "    <tr>\n",
       "      <th>Chippens Hill Phase 2</th>\n",
       "      <td>10</td>\n",
       "      <td>0.08</td>\n",
       "    </tr>\n",
       "    <tr>\n",
       "      <th>Braden River</th>\n",
       "      <td>8</td>\n",
       "      <td>0.06</td>\n",
       "    </tr>\n",
       "    <tr>\n",
       "      <th>Northgate</th>\n",
       "      <td>8</td>\n",
       "      <td>0.06</td>\n",
       "    </tr>\n",
       "    <tr>\n",
       "      <th>Eastside Animal Hospital</th>\n",
       "      <td>7</td>\n",
       "      <td>0.05</td>\n",
       "    </tr>\n",
       "    <tr>\n",
       "      <th>Blue Hills</th>\n",
       "      <td>6</td>\n",
       "      <td>0.05</td>\n",
       "    </tr>\n",
       "    <tr>\n",
       "      <th>Stanley Vet Clnic</th>\n",
       "      <td>5</td>\n",
       "      <td>0.04</td>\n",
       "    </tr>\n",
       "    <tr>\n",
       "      <th>Chippens Hill Veterinary Hospital</th>\n",
       "      <td>5</td>\n",
       "      <td>0.04</td>\n",
       "    </tr>\n",
       "    <tr>\n",
       "      <th>Trusty Vet</th>\n",
       "      <td>5</td>\n",
       "      <td>0.04</td>\n",
       "    </tr>\n",
       "    <tr>\n",
       "      <th>Wakarusa Veterinary Hospital</th>\n",
       "      <td>4</td>\n",
       "      <td>0.03</td>\n",
       "    </tr>\n",
       "    <tr>\n",
       "      <th>Animal Doctor</th>\n",
       "      <td>4</td>\n",
       "      <td>0.03</td>\n",
       "    </tr>\n",
       "    <tr>\n",
       "      <th>Family</th>\n",
       "      <td>3</td>\n",
       "      <td>0.02</td>\n",
       "    </tr>\n",
       "    <tr>\n",
       "      <th>Wamego</th>\n",
       "      <td>2</td>\n",
       "      <td>0.02</td>\n",
       "    </tr>\n",
       "    <tr>\n",
       "      <th>nan</th>\n",
       "      <td>2</td>\n",
       "      <td>0.02</td>\n",
       "    </tr>\n",
       "  </tbody>\n",
       "</table>\n",
       "</div>"
      ],
      "text/plain": [
       "                                                                      Site (n)  \\\n",
       "Demographic Subpopulation                                                        \n",
       "Site        ITT subpopulation     Raintree                                  32   \n",
       "                                  Quakertown Phase 2                        20   \n",
       "                                  Quakertown                                12   \n",
       "                                  Chippens Hill Phase 2                     10   \n",
       "                                  Braden River                               8   \n",
       "                                  Northgate                                  8   \n",
       "                                  Blue Hills                                 6   \n",
       "                                  Eastside Animal Hospital                   6   \n",
       "                                  Stanley Vet Clnic                          5   \n",
       "                                  Chippens Hill Veterinary Hospital          5   \n",
       "                                  Trusty Vet                                 5   \n",
       "                                  Wakarusa Veterinary Hospital               4   \n",
       "                                  Animal Doctor                              4   \n",
       "                                  Family                                     3   \n",
       "                                  Wamego                                     2   \n",
       "                                  nan                                        2   \n",
       "            PP subpopulation      Quakertown Phase 2                        12   \n",
       "                                  Raintree                                   9   \n",
       "                                  Quakertown                                 6   \n",
       "                                  Northgate                                  4   \n",
       "                                  Chippens Hill Phase 2                      2   \n",
       "                                  Eastside Animal Hospital                   2   \n",
       "                                  Braden River                               1   \n",
       "                                  Blue Hills                                 1   \n",
       "                                  Stanley Vet Clnic                          1   \n",
       "                                  Wakarusa Veterinary Hospital               1   \n",
       "                                  nan                                        1   \n",
       "                                  Animal Doctor                              1   \n",
       "            Overall subpopulation Raintree                                  32   \n",
       "                                  Quakertown Phase 2                        20   \n",
       "                                  Quakertown                                12   \n",
       "                                  Chippens Hill Phase 2                     10   \n",
       "                                  Braden River                               8   \n",
       "                                  Northgate                                  8   \n",
       "                                  Eastside Animal Hospital                   7   \n",
       "                                  Blue Hills                                 6   \n",
       "                                  Stanley Vet Clnic                          5   \n",
       "                                  Chippens Hill Veterinary Hospital          5   \n",
       "                                  Trusty Vet                                 5   \n",
       "                                  Wakarusa Veterinary Hospital               4   \n",
       "                                  Animal Doctor                              4   \n",
       "                                  Family                                     3   \n",
       "                                  Wamego                                     2   \n",
       "                                  nan                                        2   \n",
       "\n",
       "                                                                      Site (%)  \n",
       "Demographic Subpopulation                                                       \n",
       "Site        ITT subpopulation     Raintree                                0.24  \n",
       "                                  Quakertown Phase 2                      0.15  \n",
       "                                  Quakertown                              0.09  \n",
       "                                  Chippens Hill Phase 2                   0.08  \n",
       "                                  Braden River                            0.06  \n",
       "                                  Northgate                               0.06  \n",
       "                                  Blue Hills                              0.05  \n",
       "                                  Eastside Animal Hospital                0.05  \n",
       "                                  Stanley Vet Clnic                       0.04  \n",
       "                                  Chippens Hill Veterinary Hospital       0.04  \n",
       "                                  Trusty Vet                              0.04  \n",
       "                                  Wakarusa Veterinary Hospital            0.03  \n",
       "                                  Animal Doctor                           0.03  \n",
       "                                  Family                                  0.02  \n",
       "                                  Wamego                                  0.02  \n",
       "                                  nan                                     0.02  \n",
       "            PP subpopulation      Quakertown Phase 2                      0.29  \n",
       "                                  Raintree                                0.22  \n",
       "                                  Quakertown                              0.15  \n",
       "                                  Northgate                               0.10  \n",
       "                                  Chippens Hill Phase 2                   0.05  \n",
       "                                  Eastside Animal Hospital                0.05  \n",
       "                                  Braden River                            0.02  \n",
       "                                  Blue Hills                              0.02  \n",
       "                                  Stanley Vet Clnic                       0.02  \n",
       "                                  Wakarusa Veterinary Hospital            0.02  \n",
       "                                  nan                                     0.02  \n",
       "                                  Animal Doctor                           0.02  \n",
       "            Overall subpopulation Raintree                                0.24  \n",
       "                                  Quakertown Phase 2                      0.15  \n",
       "                                  Quakertown                              0.09  \n",
       "                                  Chippens Hill Phase 2                   0.08  \n",
       "                                  Braden River                            0.06  \n",
       "                                  Northgate                               0.06  \n",
       "                                  Eastside Animal Hospital                0.05  \n",
       "                                  Blue Hills                              0.05  \n",
       "                                  Stanley Vet Clnic                       0.04  \n",
       "                                  Chippens Hill Veterinary Hospital       0.04  \n",
       "                                  Trusty Vet                              0.04  \n",
       "                                  Wakarusa Veterinary Hospital            0.03  \n",
       "                                  Animal Doctor                           0.03  \n",
       "                                  Family                                  0.02  \n",
       "                                  Wamego                                  0.02  \n",
       "                                  nan                                     0.02  "
      ]
     },
     "metadata": {},
     "output_type": "display_data"
    }
   ],
   "source": [
    "display(statistics_by_categorical_itt_pp(demographics_site_greater_than_1, 'Site', 'Site'))"
   ]
  },
  {
   "cell_type": "code",
   "execution_count": 56,
   "id": "fc95d8ec-2bbd-4785-b9d1-aff5ec9187b0",
   "metadata": {},
   "outputs": [
    {
     "data": {
      "text/html": [
       "<div>\n",
       "<style scoped>\n",
       "    .dataframe tbody tr th:only-of-type {\n",
       "        vertical-align: middle;\n",
       "    }\n",
       "\n",
       "    .dataframe tbody tr th {\n",
       "        vertical-align: top;\n",
       "    }\n",
       "\n",
       "    .dataframe thead th {\n",
       "        text-align: right;\n",
       "    }\n",
       "</style>\n",
       "<table border=\"1\" class=\"dataframe\">\n",
       "  <thead>\n",
       "    <tr style=\"text-align: right;\">\n",
       "      <th></th>\n",
       "      <th>PET_ID</th>\n",
       "      <th>Site</th>\n",
       "      <th>wearables_itt</th>\n",
       "      <th>wearables_pp</th>\n",
       "    </tr>\n",
       "  </thead>\n",
       "  <tbody>\n",
       "    <tr>\n",
       "      <th>0</th>\n",
       "      <td>3347</td>\n",
       "      <td>Quakertown</td>\n",
       "      <td>True</td>\n",
       "      <td>True</td>\n",
       "    </tr>\n",
       "    <tr>\n",
       "      <th>1</th>\n",
       "      <td>3349</td>\n",
       "      <td>Wakarusa Veterinary Hospital</td>\n",
       "      <td>True</td>\n",
       "      <td>False</td>\n",
       "    </tr>\n",
       "    <tr>\n",
       "      <th>2</th>\n",
       "      <td>3350</td>\n",
       "      <td>Wakarusa Veterinary Hospital</td>\n",
       "      <td>True</td>\n",
       "      <td>True</td>\n",
       "    </tr>\n",
       "    <tr>\n",
       "      <th>3</th>\n",
       "      <td>3394</td>\n",
       "      <td>Chippens Hill Veterinary Hospital</td>\n",
       "      <td>True</td>\n",
       "      <td>False</td>\n",
       "    </tr>\n",
       "    <tr>\n",
       "      <th>4</th>\n",
       "      <td>3395</td>\n",
       "      <td>Chippens Hill Veterinary Hospital</td>\n",
       "      <td>True</td>\n",
       "      <td>False</td>\n",
       "    </tr>\n",
       "  </tbody>\n",
       "</table>\n",
       "</div>"
      ],
      "text/plain": [
       "   PET_ID                               Site  wearables_itt  wearables_pp\n",
       "0    3347                         Quakertown           True          True\n",
       "1    3349       Wakarusa Veterinary Hospital           True         False\n",
       "2    3350       Wakarusa Veterinary Hospital           True          True\n",
       "3    3394  Chippens Hill Veterinary Hospital           True         False\n",
       "4    3395  Chippens Hill Veterinary Hospital           True         False"
      ]
     },
     "execution_count": 56,
     "metadata": {},
     "output_type": "execute_result"
    }
   ],
   "source": [
    "demographics_site_greater_than_1.head()"
   ]
  },
  {
   "cell_type": "code",
   "execution_count": 57,
   "id": "59927e23-cb85-4b11-b14d-902347ae2d2e",
   "metadata": {},
   "outputs": [
    {
     "name": "stdout",
     "output_type": "stream",
     "text": [
      "ITT and PP Population\n",
      "                  Chi-squared test results                 \n",
      "===========================================================\n",
      "        Statistic P-value             Conclusion           \n",
      "-----------------------------------------------------------\n",
      "Results      2.23    0.33 Do not reject the null hypothesis\n",
      "-----------------------------------------------------------\n",
      "Outcome: The p-value is greater than or equal to 0.05,\n",
      "suggesting that there is not enough evidence to reject\n",
      "the null hypothesis. There is no significant\n",
      "difference between the ITT and PP population using\n",
      "Site as the categorical variable.\n",
      "===========================================================\n",
      "\n",
      "\n"
     ]
    }
   ],
   "source": [
    "statistical_test_difference(get_value_counts_as_per_chi_2(demographics_site_greater_than_1, 'Site'), 'Site', 'Site', alpha=0.05)"
   ]
  },
  {
   "cell_type": "markdown",
   "id": "b77f1b71-f8fa-47c1-b284-ab372f6979e8",
   "metadata": {},
   "source": [
    "## Owner Daily Diary time spent walking"
   ]
  },
  {
   "cell_type": "code",
   "execution_count": 58,
   "id": "02af46d9-5c03-4ef4-a482-e3796aae69d6",
   "metadata": {},
   "outputs": [],
   "source": [
    "def diary_category_converter(df):\n",
    "    # Calculate the mean and median of 'Owner Daily Diary'\n",
    "    mean_diary = df['Owner Daily Diary'].mean()\n",
    "    median_diary = df['Owner Daily Diary'].median()\n",
    "\n",
    "    # Create a new column 'Owner Daily Diary,mean.categorical'\n",
    "    df['Owner Daily Diary.mean.categorical'] = df['Owner Daily Diary'].apply(\n",
    "        lambda x: 'Above Mean' if x > mean_diary else 'Below Mean'\n",
    "    )\n",
    "\n",
    "    df['Owner Daily Diary.median.categorical'] = df['Owner Daily Diary'].apply(\n",
    "        lambda x: 'Above Median' if x > median_diary else 'Below Median'\n",
    "    )\n",
    "\n",
    "\n"
   ]
  },
  {
   "cell_type": "code",
   "execution_count": 59,
   "id": "bed9e82c-0ea2-4dd9-89b0-c72c2928c943",
   "metadata": {},
   "outputs": [],
   "source": [
    "demographics_owner_daily_diary = demog_df.groupby(['PET_ID']).agg({'Owner Daily Diary':'first',\n",
    "                                                         'wearables_itt':'first',\n",
    "                                                         'wearables_pp':'first'}).reset_index()\n",
    "\n",
    "diary_category_converter(demographics_owner_daily_diary)"
   ]
  },
  {
   "cell_type": "markdown",
   "id": "b422e5c6-e03a-4405-8a09-1910419e33c3",
   "metadata": {},
   "source": [
    "### Owner Daily Diray table"
   ]
  },
  {
   "cell_type": "code",
   "execution_count": 60,
   "id": "9ba55aa3-baa6-4593-9a04-80400290a2fa",
   "metadata": {},
   "outputs": [
    {
     "data": {
      "text/html": [
       "<div>\n",
       "<style scoped>\n",
       "    .dataframe tbody tr th:only-of-type {\n",
       "        vertical-align: middle;\n",
       "    }\n",
       "\n",
       "    .dataframe tbody tr th {\n",
       "        vertical-align: top;\n",
       "    }\n",
       "\n",
       "    .dataframe thead th {\n",
       "        text-align: right;\n",
       "    }\n",
       "</style>\n",
       "<table border=\"1\" class=\"dataframe\">\n",
       "  <thead>\n",
       "    <tr style=\"text-align: right;\">\n",
       "      <th></th>\n",
       "      <th></th>\n",
       "      <th>mean</th>\n",
       "      <th>std</th>\n",
       "      <th>Below Mean (n)</th>\n",
       "      <th>Above Mean (n)</th>\n",
       "      <th>Below Mean (%)</th>\n",
       "      <th>Above Mean (%)</th>\n",
       "    </tr>\n",
       "    <tr>\n",
       "      <th>Demographic</th>\n",
       "      <th>Subpopulation</th>\n",
       "      <th></th>\n",
       "      <th></th>\n",
       "      <th></th>\n",
       "      <th></th>\n",
       "      <th></th>\n",
       "      <th></th>\n",
       "    </tr>\n",
       "  </thead>\n",
       "  <tbody>\n",
       "    <tr>\n",
       "      <th rowspan=\"3\" valign=\"top\">Owner Daily Diary</th>\n",
       "      <th>ITT Population</th>\n",
       "      <td>23.46</td>\n",
       "      <td>13.22</td>\n",
       "      <td>92</td>\n",
       "      <td>43</td>\n",
       "      <td>0.68</td>\n",
       "      <td>0.32</td>\n",
       "    </tr>\n",
       "    <tr>\n",
       "      <th>PP Population</th>\n",
       "      <td>25.88</td>\n",
       "      <td>14.36</td>\n",
       "      <td>21</td>\n",
       "      <td>21</td>\n",
       "      <td>0.50</td>\n",
       "      <td>0.50</td>\n",
       "    </tr>\n",
       "    <tr>\n",
       "      <th>Overall</th>\n",
       "      <td>23.46</td>\n",
       "      <td>13.22</td>\n",
       "      <td>93</td>\n",
       "      <td>43</td>\n",
       "      <td>0.68</td>\n",
       "      <td>0.32</td>\n",
       "    </tr>\n",
       "  </tbody>\n",
       "</table>\n",
       "</div>"
      ],
      "text/plain": [
       "                                   mean    std  Below Mean (n)  \\\n",
       "Demographic       Subpopulation                                  \n",
       "Owner Daily Diary ITT Population  23.46  13.22              92   \n",
       "                  PP Population   25.88  14.36              21   \n",
       "                  Overall         23.46  13.22              93   \n",
       "\n",
       "                                  Above Mean (n)  Below Mean (%)  \\\n",
       "Demographic       Subpopulation                                    \n",
       "Owner Daily Diary ITT Population              43            0.68   \n",
       "                  PP Population               21            0.50   \n",
       "                  Overall                     43            0.68   \n",
       "\n",
       "                                  Above Mean (%)  \n",
       "Demographic       Subpopulation                   \n",
       "Owner Daily Diary ITT Population            0.32  \n",
       "                  PP Population             0.50  \n",
       "                  Overall                   0.32  "
      ]
     },
     "metadata": {},
     "output_type": "display_data"
    }
   ],
   "source": [
    "display(statistics_numerical_categorical_itt_pp(demographics_owner_daily_diary, 'Owner Daily Diary', 'Owner Daily Diary', 'Owner Daily Diary.mean.categorical'))"
   ]
  },
  {
   "cell_type": "code",
   "execution_count": 61,
   "id": "469d023d-ab54-46d9-a7ef-e935fe9d9652",
   "metadata": {},
   "outputs": [
    {
     "data": {
      "text/html": [
       "<div>\n",
       "<style scoped>\n",
       "    .dataframe tbody tr th:only-of-type {\n",
       "        vertical-align: middle;\n",
       "    }\n",
       "\n",
       "    .dataframe tbody tr th {\n",
       "        vertical-align: top;\n",
       "    }\n",
       "\n",
       "    .dataframe thead th {\n",
       "        text-align: right;\n",
       "    }\n",
       "</style>\n",
       "<table border=\"1\" class=\"dataframe\">\n",
       "  <thead>\n",
       "    <tr style=\"text-align: right;\">\n",
       "      <th></th>\n",
       "      <th></th>\n",
       "      <th>mean</th>\n",
       "      <th>std</th>\n",
       "      <th>Below Median (n)</th>\n",
       "      <th>Above Median (n)</th>\n",
       "      <th>Below Median (%)</th>\n",
       "      <th>Above Median (%)</th>\n",
       "    </tr>\n",
       "    <tr>\n",
       "      <th>Demographic</th>\n",
       "      <th>Subpopulation</th>\n",
       "      <th></th>\n",
       "      <th></th>\n",
       "      <th></th>\n",
       "      <th></th>\n",
       "      <th></th>\n",
       "      <th></th>\n",
       "    </tr>\n",
       "  </thead>\n",
       "  <tbody>\n",
       "    <tr>\n",
       "      <th rowspan=\"3\" valign=\"top\">Owner Daily Diary</th>\n",
       "      <th>ITT Population</th>\n",
       "      <td>23.46</td>\n",
       "      <td>13.22</td>\n",
       "      <td>87</td>\n",
       "      <td>48</td>\n",
       "      <td>0.64</td>\n",
       "      <td>0.36</td>\n",
       "    </tr>\n",
       "    <tr>\n",
       "      <th>PP Population</th>\n",
       "      <td>25.88</td>\n",
       "      <td>14.36</td>\n",
       "      <td>20</td>\n",
       "      <td>22</td>\n",
       "      <td>0.48</td>\n",
       "      <td>0.52</td>\n",
       "    </tr>\n",
       "    <tr>\n",
       "      <th>Overall</th>\n",
       "      <td>23.46</td>\n",
       "      <td>13.22</td>\n",
       "      <td>88</td>\n",
       "      <td>48</td>\n",
       "      <td>0.65</td>\n",
       "      <td>0.35</td>\n",
       "    </tr>\n",
       "  </tbody>\n",
       "</table>\n",
       "</div>"
      ],
      "text/plain": [
       "                                   mean    std  Below Median (n)  \\\n",
       "Demographic       Subpopulation                                    \n",
       "Owner Daily Diary ITT Population  23.46  13.22                87   \n",
       "                  PP Population   25.88  14.36                20   \n",
       "                  Overall         23.46  13.22                88   \n",
       "\n",
       "                                  Above Median (n)  Below Median (%)  \\\n",
       "Demographic       Subpopulation                                        \n",
       "Owner Daily Diary ITT Population                48              0.64   \n",
       "                  PP Population                 22              0.48   \n",
       "                  Overall                       48              0.65   \n",
       "\n",
       "                                  Above Median (%)  \n",
       "Demographic       Subpopulation                     \n",
       "Owner Daily Diary ITT Population              0.36  \n",
       "                  PP Population               0.52  \n",
       "                  Overall                     0.35  "
      ]
     },
     "metadata": {},
     "output_type": "display_data"
    }
   ],
   "source": [
    "display(statistics_numerical_categorical_itt_pp(demographics_owner_daily_diary, 'Owner Daily Diary', 'Owner Daily Diary', 'Owner Daily Diary.median.categorical'))"
   ]
  },
  {
   "cell_type": "markdown",
   "id": "ac7d59c4-ed4e-43e3-84d2-a13b6b9e9be1",
   "metadata": {},
   "source": [
    "### Owner Daily Diray (numerical) Mann Whitney test"
   ]
  },
  {
   "cell_type": "code",
   "execution_count": 62,
   "id": "dac8953e-5601-49dc-88bd-f6866af133b1",
   "metadata": {},
   "outputs": [
    {
     "name": "stdout",
     "output_type": "stream",
     "text": [
      "=================================================================\n",
      "Mann Whitney test for Owner Daily Diary\n",
      "===================================================================\n",
      "ITT vs PP:\n",
      "-------------------------------------------------------------------\n",
      "Statistic: 1817.00, p-value: 0.38\n",
      "-------------------------------------------------------------------\n",
      "Outcome:\n",
      "Cannot reject the NULL hypothesis\n",
      "No significant difference between the two groups based on Owner Daily Diary\n"
     ]
    }
   ],
   "source": [
    "numerical_stat_test_report(demographics_owner_daily_diary, 'Owner Daily Diary')"
   ]
  },
  {
   "cell_type": "code",
   "execution_count": 63,
   "id": "72c6ec18-1a9e-4de4-8d1a-f8767e4bccb1",
   "metadata": {},
   "outputs": [
    {
     "data": {
      "text/plain": [
       "MannwhitneyuResult(statistic=1817.0, pvalue=0.37505027580231776)"
      ]
     },
     "execution_count": 63,
     "metadata": {},
     "output_type": "execute_result"
    }
   ],
   "source": [
    "stats.mannwhitneyu(demographics_owner_daily_diary[demographics_owner_daily_diary['wearables_itt']==True]['Owner Daily Diary'].dropna().values,\n",
    "                   demographics_owner_daily_diary[demographics_owner_daily_diary['wearables_pp']==True]['Owner Daily Diary'].dropna().values)"
   ]
  },
  {
   "cell_type": "markdown",
   "id": "8c8dedcf-95ef-41e5-ad2a-08f98e3f0b79",
   "metadata": {},
   "source": [
    "### Owner Daily Diray statistical test"
   ]
  },
  {
   "cell_type": "code",
   "execution_count": 64,
   "id": "420fb06a-f0d4-4672-9488-7c1cdffbeafd",
   "metadata": {},
   "outputs": [
    {
     "name": "stdout",
     "output_type": "stream",
     "text": [
      "ITT and PP Population\n",
      "                  Chi-squared test results                 \n",
      "===========================================================\n",
      "        Statistic P-value             Conclusion           \n",
      "-----------------------------------------------------------\n",
      "Results      3.82    0.05 Do not reject the null hypothesis\n",
      "-----------------------------------------------------------\n",
      "Outcome: The p-value is greater than or equal to 0.05,\n",
      "suggesting that there is not enough evidence to reject\n",
      "the null hypothesis. There is no significant\n",
      "difference between the ITT and PP population using\n",
      "Owner Daily Diary.mean.categorical as the categorical\n",
      "variable.\n",
      "===========================================================\n",
      "\n",
      "\n"
     ]
    }
   ],
   "source": [
    "op = statistical_test_difference(get_value_counts_as_per_chi_2(demographics_owner_daily_diary, 'Owner Daily Diary.mean.categorical'), 'Owner Daily Diary', 'Owner Daily Diary.mean.categorical', alpha=0.05)"
   ]
  },
  {
   "cell_type": "code",
   "execution_count": 65,
   "id": "28a72b6c-fa29-4bcb-9477-9becd0bc625a",
   "metadata": {},
   "outputs": [
    {
     "name": "stdout",
     "output_type": "stream",
     "text": [
      "ITT and PP Population\n",
      "                  Chi-squared test results                 \n",
      "===========================================================\n",
      "        Statistic P-value             Conclusion           \n",
      "-----------------------------------------------------------\n",
      "Results      3.12    0.08 Do not reject the null hypothesis\n",
      "-----------------------------------------------------------\n",
      "Outcome: The p-value is greater than or equal to 0.05,\n",
      "suggesting that there is not enough evidence to reject\n",
      "the null hypothesis. There is no significant\n",
      "difference between the ITT and PP population using\n",
      "Owner Daily Diary.median.categorical as the\n",
      "categorical variable.\n",
      "===========================================================\n",
      "\n",
      "\n"
     ]
    }
   ],
   "source": [
    "op = statistical_test_difference(get_value_counts_as_per_chi_2(demographics_owner_daily_diary, 'Owner Daily Diary.median.categorical'), 'Owner Daily Diary', 'Owner Daily Diary.median.categorical', alpha=0.05)"
   ]
  },
  {
   "cell_type": "markdown",
   "id": "3bea857f-b5c3-44c1-9fb5-b6d50e643b4a",
   "metadata": {},
   "source": [
    "## Weekend vs. weekday"
   ]
  },
  {
   "cell_type": "code",
   "execution_count": 66,
   "id": "9ec86119-71b7-46c0-8f5e-ff09f383a8c0",
   "metadata": {},
   "outputs": [],
   "source": [
    "def map_weekend_weekday(value):\n",
    "    if value == 0:\n",
    "        return 'Weekday'\n",
    "    elif value == 1:\n",
    "        return 'Weekend'"
   ]
  },
  {
   "cell_type": "code",
   "execution_count": 67,
   "id": "2c5b3e35-f4c1-487c-845b-31328542467b",
   "metadata": {},
   "outputs": [],
   "source": [
    "demographics_weekend = demog_df.groupby(['PET_ID']).agg({'weekend vs. weekday':'first',\n",
    "                                                               'wearables_itt':'first',\n",
    "                                                               'wearables_pp':'first'}).reset_index().replace(float('nan'),np.nan)\n",
    "demographics_weekend['ISweekend.categorical'] = demographics_weekend['weekend vs. weekday'].apply(lambda x: map_weekend_weekday(x))"
   ]
  },
  {
   "cell_type": "markdown",
   "id": "3ec41700-602c-4ac3-b7ea-77591e2591f4",
   "metadata": {},
   "source": [
    "### Weekend vs. weekday table"
   ]
  },
  {
   "cell_type": "code",
   "execution_count": 68,
   "id": "c6cfd7bb-5339-42ad-b837-a152df118d89",
   "metadata": {},
   "outputs": [
    {
     "data": {
      "text/html": [
       "<div>\n",
       "<style scoped>\n",
       "    .dataframe tbody tr th:only-of-type {\n",
       "        vertical-align: middle;\n",
       "    }\n",
       "\n",
       "    .dataframe tbody tr th {\n",
       "        vertical-align: top;\n",
       "    }\n",
       "\n",
       "    .dataframe thead th {\n",
       "        text-align: right;\n",
       "    }\n",
       "</style>\n",
       "<table border=\"1\" class=\"dataframe\">\n",
       "  <thead>\n",
       "    <tr style=\"text-align: right;\">\n",
       "      <th></th>\n",
       "      <th></th>\n",
       "      <th></th>\n",
       "      <th>Weekend vs. weekday (n)</th>\n",
       "      <th>Weekend vs. weekday (%)</th>\n",
       "    </tr>\n",
       "    <tr>\n",
       "      <th>Demographic</th>\n",
       "      <th>Subpopulation</th>\n",
       "      <th></th>\n",
       "      <th></th>\n",
       "      <th></th>\n",
       "    </tr>\n",
       "  </thead>\n",
       "  <tbody>\n",
       "    <tr>\n",
       "      <th rowspan=\"6\" valign=\"top\">Weekend vs. weekday</th>\n",
       "      <th rowspan=\"2\" valign=\"top\">ITT subpopulation</th>\n",
       "      <th>Weekday</th>\n",
       "      <td>100</td>\n",
       "      <td>0.74</td>\n",
       "    </tr>\n",
       "    <tr>\n",
       "      <th>Weekend</th>\n",
       "      <td>35</td>\n",
       "      <td>0.26</td>\n",
       "    </tr>\n",
       "    <tr>\n",
       "      <th rowspan=\"2\" valign=\"top\">PP subpopulation</th>\n",
       "      <th>Weekday</th>\n",
       "      <td>31</td>\n",
       "      <td>0.74</td>\n",
       "    </tr>\n",
       "    <tr>\n",
       "      <th>Weekend</th>\n",
       "      <td>11</td>\n",
       "      <td>0.26</td>\n",
       "    </tr>\n",
       "    <tr>\n",
       "      <th rowspan=\"2\" valign=\"top\">Overall subpopulation</th>\n",
       "      <th>Weekday</th>\n",
       "      <td>100</td>\n",
       "      <td>0.74</td>\n",
       "    </tr>\n",
       "    <tr>\n",
       "      <th>Weekend</th>\n",
       "      <td>36</td>\n",
       "      <td>0.26</td>\n",
       "    </tr>\n",
       "  </tbody>\n",
       "</table>\n",
       "</div>"
      ],
      "text/plain": [
       "                                                    Weekend vs. weekday (n)  \\\n",
       "Demographic         Subpopulation                                             \n",
       "Weekend vs. weekday ITT subpopulation     Weekday                       100   \n",
       "                                          Weekend                        35   \n",
       "                    PP subpopulation      Weekday                        31   \n",
       "                                          Weekend                        11   \n",
       "                    Overall subpopulation Weekday                       100   \n",
       "                                          Weekend                        36   \n",
       "\n",
       "                                                    Weekend vs. weekday (%)  \n",
       "Demographic         Subpopulation                                            \n",
       "Weekend vs. weekday ITT subpopulation     Weekday                      0.74  \n",
       "                                          Weekend                      0.26  \n",
       "                    PP subpopulation      Weekday                      0.74  \n",
       "                                          Weekend                      0.26  \n",
       "                    Overall subpopulation Weekday                      0.74  \n",
       "                                          Weekend                      0.26  "
      ]
     },
     "metadata": {},
     "output_type": "display_data"
    }
   ],
   "source": [
    "display(statistics_by_categorical_itt_pp(demographics_weekend, 'Weekend vs. weekday', 'ISweekend.categorical'))"
   ]
  },
  {
   "cell_type": "markdown",
   "id": "130369c6-16bf-4a2f-b060-da39dc9b9886",
   "metadata": {},
   "source": [
    "### Weekend vs. weekday statistical test"
   ]
  },
  {
   "cell_type": "code",
   "execution_count": 69,
   "id": "973a8e82-202a-40f2-9354-3f1d4799275a",
   "metadata": {},
   "outputs": [
    {
     "name": "stdout",
     "output_type": "stream",
     "text": [
      "ITT and PP Population\n",
      "                  Chi-squared test results                 \n",
      "===========================================================\n",
      "        Statistic P-value             Conclusion           \n",
      "-----------------------------------------------------------\n",
      "Results       0.0     1.0 Do not reject the null hypothesis\n",
      "-----------------------------------------------------------\n",
      "Outcome: The p-value is greater than or equal to 0.05,\n",
      "suggesting that there is not enough evidence to reject\n",
      "the null hypothesis. There is no significant\n",
      "difference between the ITT and PP population using\n",
      "ISweekend.categorical as the categorical variable.\n",
      "===========================================================\n",
      "\n",
      "\n"
     ]
    }
   ],
   "source": [
    "statistical_test_difference(get_value_counts_as_per_chi_2(demographics_weekend, 'ISweekend.categorical'), 'Weekend vs. weekday', 'ISweekend.categorical', alpha=0.05)"
   ]
  },
  {
   "cell_type": "code",
   "execution_count": null,
   "id": "0b183ba1-74e7-40f7-9292-351e8f35f225",
   "metadata": {},
   "outputs": [],
   "source": []
  }
 ],
 "metadata": {
  "environment": {
   "kernel": "hillsadvancedml_envi",
   "name": "common-cpu.m107",
   "type": "gcloud",
   "uri": "gcr.io/deeplearning-platform-release/base-cpu:m107"
  },
  "kernelspec": {
   "display_name": "Hills Advanced ML Envi",
   "language": "python",
   "name": "hillsadvancedml_envi"
  },
  "language_info": {
   "codemirror_mode": {
    "name": "ipython",
    "version": 3
   },
   "file_extension": ".py",
   "mimetype": "text/x-python",
   "name": "python",
   "nbconvert_exporter": "python",
   "pygments_lexer": "ipython3",
   "version": "3.7.9"
  },
  "toc-autonumbering": true
 },
 "nbformat": 4,
 "nbformat_minor": 5
}
