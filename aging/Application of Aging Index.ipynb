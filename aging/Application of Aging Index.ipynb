{
 "cells": [
  {
   "cell_type": "markdown",
   "metadata": {},
   "source": [
    "## Application of Aging Index"
   ]
  },
  {
   "cell_type": "markdown",
   "metadata": {},
   "source": [
    "## Notebook description\n",
    "Application of mobility index developed using WEDS extract to differentiate between mobility vs healthy pets on WAM study."
   ]
  },
  {
   "cell_type": "markdown",
   "metadata": {},
   "source": [
    "## Input data\n",
    "1) AGING_DATA_EXTRACT_NEW_NQSD_20231214.csv"
   ]
  },
  {
   "cell_type": "code",
   "execution_count": 1,
   "metadata": {},
   "outputs": [],
   "source": [
    "import sys\n",
    "import scipy\n",
    "import itertools\n",
    "import numpy as np\n",
    "import pandas as pd\n",
    "import seaborn as sns\n",
    "from decimal import Decimal\n",
    "from matplotlib.pylab import plt\n",
    "\n",
    "from catboost import CatBoostClassifier\n",
    "from sklearn.preprocessing import MinMaxScaler\n",
    "import os, sys\n",
    "scripts_master = os.path.dirname('../../advanced_stats_code_library/src/')\n",
    "sys.path.insert(0, scripts_master) \n",
    "\n",
    "from norm_excursion.report_results import ReportResults\n",
    "from norm_excursion.norm_excursion import NormExcursion\n",
    "from norm_excursion.study_meta_data import StudyMetaData\n",
    "from norm_excursion.data_validation import DataValidation\n",
    "from responder_analysis import responder_utils\n",
    "from responder_analysis.responder_analysis import ResponderAnalysis\n",
    "from statsmodels.stats.proportion import proportion_confint\n",
    "from power_analysis.power_analysis import PowerAnalysis\n",
    "from scipy import stats\n",
    "power_analysis=PowerAnalysis()\n",
    "import warnings\n",
    "warnings.filterwarnings('ignore')\n",
    "palette = sns.color_palette('deep', 10)\n",
    "plt.style.use('seaborn-whitegrid')\n",
    "pd.set_option('display.max_rows', 200)\n",
    "pd.set_option('display.max_columns', 200)\n",
    "params = {\n",
    "            'legend.fontsize': 'x-large',\n",
    "            'axes.labelsize': 'x-large',\n",
    "            'axes.titlesize':'x-large',\n",
    "            'xtick.labelsize':'x-large',\n",
    "            'ytick.labelsize':'x-large'\n",
    "        }\n",
    "plt.rcParams.update(params)"
   ]
  },
  {
   "cell_type": "markdown",
   "metadata": {},
   "source": [
    "## Load data"
   ]
  },
  {
   "cell_type": "code",
   "execution_count": 2,
   "metadata": {},
   "outputs": [],
   "source": [
    "data_nopop = pd.read_csv(\"gs://hpn_cte_advanced_stats_data_repository/yahui_data_repository/Aging 202312/AGING_DATA_EXTRACT__NEW_NQSD_20231214.csv\")\n",
    "population = pd.read_csv(\"gs://hpn_cte_advanced_stats_data_repository/yahui_data_repository/Aging 202312/population_updates_20231214.csv\")"
   ]
  },
  {
   "cell_type": "code",
   "execution_count": 3,
   "metadata": {},
   "outputs": [],
   "source": [
    "data = pd.merge(data_nopop, population, on=['PET_ID'], how='left')"
   ]
  },
  {
   "cell_type": "code",
   "execution_count": 4,
   "metadata": {},
   "outputs": [],
   "source": [
    "# Rename the dataset name to correpond with the source library\n",
    "data['external_patient_id'] = data['EXTERNAL_ID']\n",
    "data['study_group'] = data['study_food']"
   ]
  },
  {
   "cell_type": "code",
   "execution_count": 5,
   "metadata": {},
   "outputs": [],
   "source": [
    "aging = data[data['IS_QUALIFIED_NEW'] == 'YES']\n",
    "aging['unique_patient_date'] = aging['external_patient_id'] +'_'+ aging['DATE'].astype(str)\n",
    "aging_df = aging[aging['study_food'].notna() & aging['NORMALIZED_QUALIFYING_STUDY_DAY_NEW'].notna()]\n",
    "aging_df = aging_df.drop(['COMPLETION_DATE', 'DAILYDATAQUALITYINDREASON'], axis=1)\n",
    "#creating period variable\n",
    "aging_df['period'] = aging_df['NORMALIZED_QUALIFYING_STUDY_DAY_NEW'].apply(\n",
    "    lambda x: 'baseline' if x < 0 else 'treatment'\n",
    ")\n",
    "treatment_counts = aging_df[aging_df['period'] == 'treatment'].groupby('EXTERNAL_ID').size()\n",
    "baseline_counts = aging_df[aging_df['period'] == 'baseline'].groupby('EXTERNAL_ID').size()\n",
    "\n",
    "# Filtering out PET_IDs where the 'treatment' period is less than 28 days and 'baseline' period is less than 21 days\n",
    "filtered_pet_ids = treatment_counts[(treatment_counts >= 63) & (baseline_counts >= 21)].index\n",
    "new_aging_df = aging_df[aging_df['EXTERNAL_ID'].isin(filtered_pet_ids)]\n"
   ]
  },
  {
   "cell_type": "markdown",
   "metadata": {},
   "source": [
    "## Responder analysis parameters"
   ]
  },
  {
   "cell_type": "code",
   "execution_count": 6,
   "metadata": {},
   "outputs": [
    {
     "data": {
      "text/plain": [
       "<catboost.core.CatBoostClassifier at 0x7f99bb322d90>"
      ]
     },
     "execution_count": 6,
     "metadata": {},
     "output_type": "execute_result"
    }
   ],
   "source": [
    "# Parameters\n",
    "feature_columns=['Walking_ACE_All_day', 'active_900', 'Resting_CE_6pm_12am', 'Running_ACE_6pm_12am', 'Sleeping_TD_6pm_12am']\n",
    "# Response direction (increase or decrease)\n",
    "response_direction='decrease'\n",
    "# Success percent\n",
    "success_percent=10\n",
    "# Number of weeks and days\n",
    "no_of_weeks=12\n",
    "no_of_days=no_of_weeks*7\n",
    "# Significance level for hypothesis testing\n",
    "significance_level=0.05\n",
    "# Study day variable\n",
    "study_day='NORMALIZED_QUALIFYING_STUDY_DAY_NEW'\n",
    "# Group 1 (yellow) and Group 2 (pink) names\n",
    "group_1_names=new_aging_df[new_aging_df['study_group']==\\\n",
    "                                    'Black']['external_patient_id'].unique()\n",
    "group_2_names=new_aging_df[new_aging_df['study_group']==\\\n",
    "                                    'Peach']['external_patient_id'].unique()\n",
    "# Loading mobility index created earlier using model file\n",
    "mobility_index = CatBoostClassifier()\n",
    "\n",
    "mobility_index.load_model(\"aging_index_top_5_features\")"
   ]
  },
  {
   "cell_type": "code",
   "execution_count": 7,
   "metadata": {},
   "outputs": [],
   "source": [
    "def rename_columns(df):\n",
    "    \"\"\" \n",
    "\n",
    "    The function 'rename_columns' is used for rename the feature columns into meaningful activity columns.\n",
    "\n",
    "    Parameters\n",
    "    ----------\n",
    "    df : str\n",
    "        The dataframe which contains the feature columns.\n",
    "  \n",
    "    \"\"\" \n",
    "    replace_dict_activity = {\n",
    "\n",
    "        '_12': 'Sleeping',\n",
    "        '_1': 'Resting',\n",
    "        '_3': 'Running',\n",
    "        '_5': 'Scratching',\n",
    "        '_4': 'Shaking',\n",
    "        '_2': 'Walking'\n",
    "    }\n",
    "\n",
    "    replace_dict_time = {\n",
    "        'Q1': '12am_6am',\n",
    "        'Q2': '6am_12pm',\n",
    "        'Q3': '12pm_6pm',\n",
    "        'Q4': '6pm_12am',\n",
    "        'Q5': 'All_day'\n",
    "    }\n",
    "\n",
    "    # New column names\n",
    "    new_cols = []\n",
    "\n",
    "    for col in df.columns:\n",
    "        # Initialize activity\n",
    "        activity = ''\n",
    "\n",
    "        # If the column doesn't start with 'VAR' or 'DER', add it to new_cols without conversion\n",
    "        if not col.startswith('VAR') and not col.startswith('DER'):\n",
    "            new_cols.append(col)\n",
    "            continue\n",
    "\n",
    "        # Remove the _1 at last\n",
    "        if col.endswith('_2'):\n",
    "            col = col[:-2]\n",
    "\n",
    "        # Replace activity codes with names\n",
    "        for old, new in replace_dict_activity.items():\n",
    "            if old in col:\n",
    "                col = col.replace(old, '')\n",
    "                activity = new\n",
    "                break\n",
    "\n",
    "        # Remove 'VAR' or 'DER'\n",
    "        if col.startswith('VAR'):\n",
    "            col = col[3:]\n",
    "        elif col.startswith('DER'):\n",
    "            col = col[3:]\n",
    "\n",
    "        # Replace time codes with names\n",
    "        for old, new in replace_dict_time.items():\n",
    "            if old in col:\n",
    "                col = col.replace(old, new)\n",
    "                break\n",
    "\n",
    "        # Place the replaced part (activity) at the beginning\n",
    "        col = activity + col\n",
    "\n",
    "        new_cols.append(col)\n",
    "\n",
    "    df.columns = new_cols\n",
    "    \n",
    "    return df"
   ]
  },
  {
   "cell_type": "code",
   "execution_count": 8,
   "metadata": {},
   "outputs": [],
   "source": [
    "new_aging_df = rename_columns(new_aging_df)"
   ]
  },
  {
   "cell_type": "markdown",
   "metadata": {},
   "source": [
    "## Index applied to Aging"
   ]
  },
  {
   "cell_type": "code",
   "execution_count": 9,
   "metadata": {},
   "outputs": [],
   "source": [
    "meta_columns=['external_patient_id', study_day,\n",
    "              'study_group']\n",
    "\n",
    "response_from_baseline=[]\n",
    "baseline_append=[]\n",
    "# Looping through each patient and creating model per patient\n",
    "for patient_name in new_aging_df['external_patient_id'].unique():\n",
    "    features_tinker=meta_columns+feature_columns\n",
    "    sample_patient=new_aging_df[new_aging_df\\\n",
    "                                          ['external_patient_id']==patient_name]\\\n",
    "                                                        [features_tinker]\\\n",
    "                                                        .reset_index()\\\n",
    "                                                        .drop(['index'],axis=1)\n",
    "    sample_patient.index=sample_patient[study_day]\n",
    "    \n",
    "    # Baseline period\n",
    "    baseline_period=sample_patient[(sample_patient[study_day]<0) & (sample_patient[study_day]>=-21)]\n",
    "    # Treatment period\n",
    "    treatment_period=sample_patient[(sample_patient[study_day]>=0) & (sample_patient[study_day]<=63)]\n",
    "    \n",
    "    # application of mobility index on baseline period\n",
    "    baseline_period['baseline_proba']=mobility_index.predict_proba(baseline_period[feature_columns])[:,1]\n",
    "    \n",
    "    baseline_mean=baseline_period['baseline_proba'].mean()\n",
    "    baseline_std=baseline_period['baseline_proba'].std()\n",
    "    # % change of mobility index from baseline to treatment\n",
    "    treatment_period['treatment_proba']=mobility_index.predict_proba(treatment_period[feature_columns])[:,1]\n",
    "    treatment_period['treatment_proba']=(treatment_period['treatment_proba']-baseline_mean)/baseline_std\n",
    "    treatment_period['% Increase run/walk']=((treatment_period['treatment_proba']-baseline_mean)\\\n",
    "                                               /baseline_mean).values*100\n",
    "    # appending results\n",
    "    response_from_baseline.append(treatment_period[['external_patient_id',\n",
    "                                                    study_day,\\\n",
    "                                                    '% Increase run/walk','treatment_proba']])\n",
    "    baseline_append.append(baseline_period)\n",
    "\n",
    "response_from_baseline_df=pd.concat(response_from_baseline)\n",
    "# daily success matrix with patients as columns and values as % change\n",
    "daily_success_matrix=response_from_baseline_df.pivot(index=study_day, \\\n",
    "                                            columns='external_patient_id', \\\n",
    "                                            values='% Increase run/walk')\n",
    "response_matrix=daily_success_matrix.copy()\n",
    "# weekly patient analysis\n",
    "weekly_patient_analysis=[]\n",
    "for x in response_matrix.columns:\n",
    "    flatten_decrease=pd.DataFrame(response_matrix[x].values.flatten())\\\n",
    "                .dropna().reset_index().drop(['index'],axis=1)\n",
    "    i=0\n",
    "    week_decrease=[]\n",
    "    for i, g in flatten_decrease.groupby(np.arange(len(flatten_decrease)) // 7):\n",
    "        i+=1\n",
    "        if g.shape[0]==7:\n",
    "            if response_direction=='increase':\n",
    "                week_decrease.append([i,g[g>success_percent].count().values[0]/7])\n",
    "            elif response_direction=='decrease':\n",
    "                week_decrease.append([i,g[g<-success_percent].count().values[0]/7])\n",
    "                \n",
    "    weekly_success=pd.DataFrame(week_decrease)\n",
    "    weekly_success.columns=['week_name','percent_of_success_days']\n",
    "    weekly_success['external_patient_id']=x\n",
    "    weekly_patient_analysis.append(weekly_success)\n",
    "weekly_success_matrix=pd.concat(weekly_patient_analysis)\\\n",
    "                    .pivot(index='week_name', \n",
    "                            columns='external_patient_id', \\\n",
    "                            values='percent_of_success_days')"
   ]
  },
  {
   "cell_type": "code",
   "execution_count": 10,
   "metadata": {},
   "outputs": [],
   "source": [
    "# Parameters for binomial test\n",
    "group_1_flat=pd.DataFrame(daily_success_matrix[group_1_names]\\\n",
    "                                 .iloc[:no_of_days]\\\n",
    "                                 .values.flatten()).dropna()\n",
    "group_2_flat=pd.DataFrame(daily_success_matrix[group_2_names]\\\n",
    "                                 .iloc[:no_of_days]\\\n",
    "                                 .values.flatten()).dropna()\n",
    "if response_direction == 'increase':\n",
    "    success_count_group_1 = \\\n",
    "        group_1_flat[group_1_flat[0] > success_percent].shape[0]\n",
    "    total_number_of_trial_group_1 = group_1_flat.shape[0]\n",
    "\n",
    "    success_count_group_2 = \\\n",
    "        group_2_flat[group_2_flat[0] > success_percent].shape[0]\n",
    "    total_number_of_trial_group_2 = group_2_flat.shape[0]\n",
    "elif response_direction == 'decrease':\n",
    "    success_count_group_1 = \\\n",
    "        group_1_flat[group_1_flat[0] < -success_percent].shape[0]\n",
    "    total_number_of_trial_group_1 = group_1_flat.shape[0]\n",
    "\n",
    "    success_count_group_2 = \\\n",
    "        group_2_flat[group_2_flat[0] < -success_percent].shape[0]\n",
    "    total_number_of_trial_group_2 = group_2_flat.shape[0]"
   ]
  },
  {
   "cell_type": "code",
   "execution_count": 11,
   "metadata": {},
   "outputs": [
    {
     "data": {
      "text/plain": [
       "1980"
      ]
     },
     "execution_count": 11,
     "metadata": {},
     "output_type": "execute_result"
    }
   ],
   "source": [
    "total_number_of_trial_group_1"
   ]
  },
  {
   "cell_type": "code",
   "execution_count": 12,
   "metadata": {},
   "outputs": [
    {
     "data": {
      "text/plain": [
       "2041"
      ]
     },
     "execution_count": 12,
     "metadata": {},
     "output_type": "execute_result"
    }
   ],
   "source": [
    "total_number_of_trial_group_2"
   ]
  },
  {
   "cell_type": "markdown",
   "metadata": {},
   "source": [
    "## Results"
   ]
  },
  {
   "cell_type": "code",
   "execution_count": 13,
   "metadata": {},
   "outputs": [],
   "source": [
    "# z test \n",
    "z_test_p_value=responder_utils.z_test(success_count_group_1/total_number_of_trial_group_1,\\\n",
    "                      success_count_group_2/total_number_of_trial_group_2,\\\n",
    "                      total_number_of_trial_group_1,\\\n",
    "                      total_number_of_trial_group_2)\n",
    "\n",
    "# Binomial confidence interval\n",
    "binomial_confidence_interval=responder_utils.binomial_confidence_interval(daily_success_matrix,\n",
    "                                             group_1_names,\n",
    "                                             group_2_names,\n",
    "                                             no_of_days,\n",
    "                                             response_direction,\n",
    "                                             success_percent,\n",
    "                                             significance_level)\n",
    "\n",
    "# Difference of mean tests\n",
    "group_1_means, group_2_means=responder_utils.proportion_per_patient(response_from_baseline_df,\n",
    "                           '% Increase run/walk',\n",
    "                           response_direction,\n",
    "                           success_percent,\n",
    "                           study_day,\n",
    "                           group_1_names,\n",
    "                           group_2_names,\n",
    "                           no_of_days)"
   ]
  },
  {
   "cell_type": "code",
   "execution_count": 14,
   "metadata": {},
   "outputs": [
    {
     "data": {
      "text/plain": [
       "[0.96875,\n",
       " 0.828125,\n",
       " 0.46875,\n",
       " 0.578125,\n",
       " 0.546875,\n",
       " 0.3125,\n",
       " 0.765625,\n",
       " 0.78125,\n",
       " 0.84375,\n",
       " 0.765625,\n",
       " 1.0,\n",
       " 0.796875,\n",
       " 0.6825396825396826,\n",
       " 0.9523809523809523,\n",
       " 1.0,\n",
       " 0.9206349206349206,\n",
       " 0.84375,\n",
       " 0.9375,\n",
       " 0.71875,\n",
       " 0.65625,\n",
       " 0.640625,\n",
       " 0.8125,\n",
       " 0.8125,\n",
       " 0.4375,\n",
       " 0.71875,\n",
       " 0.75,\n",
       " 0.609375,\n",
       " 0.828125,\n",
       " 0.703125,\n",
       " 0.5238095238095238,\n",
       " 0.765625]"
      ]
     },
     "execution_count": 14,
     "metadata": {},
     "output_type": "execute_result"
    }
   ],
   "source": [
    "group_1_means"
   ]
  },
  {
   "cell_type": "code",
   "execution_count": 15,
   "metadata": {},
   "outputs": [
    {
     "name": "stdout",
     "output_type": "stream",
     "text": [
      "----------------------------------------------------\n",
      "\u001b[1mBinomial test results:\n",
      "\u001b[0;0m\n",
      "Binomial test for difference in proportion:\n",
      "\n",
      "P-value: 0.2860884805945476\n",
      "\n",
      "\n",
      "Binomial confidence interval:\n",
      "\n",
      "Group 1 (yellow): (0.7216105690967202, 0.7602076127214618)\n",
      "Group 2 (pink): (0.7368664176386734, 0.774157590200621)\n",
      "----------------------------------------------------\n",
      "\u001b[1mDifference in means results:\n",
      "\u001b[0;0m\n",
      "Effect size: -0.08278482481871408\n",
      "\n",
      "\n",
      "T-test:\n",
      "\n",
      "                       T-test Assumptions                      \n",
      "===============================================================\n",
      "                                          Success/Fails P-value\n",
      "---------------------------------------------------------------\n",
      "1) Test for equality of variance (levene)       Success  0.9144\n",
      "2) Test for normality (shapiro)                   Fails        \n",
      " a) Group 1                                              0.3742\n",
      " b) Group 2                                              0.0382\n",
      "---------------------------------------------------------------\n",
      "Levene test\n",
      "The Levene test tests the null hypothesis that all input \n",
      "samples are from populations with equal variances.\n",
      "---------------------------------------------------------------\n",
      "Shapiro test\n",
      "The Shapiro-Wilk test tests the null hypothesis that the \n",
      "data was drawn from a normal distribution.\n",
      "---------------------------------------------------------------\n",
      "\n",
      "\n",
      "\n",
      "        T-test (difference in proportion of outlier)       \n",
      "===========================================================\n",
      "        Statistic P-value             Conclusion           \n",
      "-----------------------------------------------------------\n",
      "Results    -0.328  0.7436 Do not reject the null hypothesis\n",
      "-----------------------------------------------------------\n",
      "Mann whitney test:  MannwhitneyuResult(statistic=464.5, pvalue=0.6697582005963434)\n",
      "\u001b[1m\n",
      "Randomization test results:\n",
      "\u001b[0;0m\n",
      "Original difference between group 1 and group 2: -0.014132404473886195\n",
      "p-value: 0.6251\n",
      "Result: randomization test suggests no significant difference between two groups.\n"
     ]
    },
    {
     "data": {
      "image/png": "[encoded data removed]",
      "text/plain": [
       "<Figure size 800x500 with 1 Axes>"
      ]
     },
     "metadata": {},
     "output_type": "display_data"
    }
   ],
   "source": [
    "print(\"----------------------------------------------------\")\n",
    "print('\\033[1m'+\"Binomial test results:\\n\"+\"\\033[0;0m\")\n",
    "print(\"Binomial test for difference in proportion:\\n\")\n",
    "print(\"P-value:\",z_test_p_value)\n",
    "print(\"\\n\")\n",
    "\n",
    "print(\"Binomial confidence interval:\\n\")\n",
    "print(\"Group 1 (yellow):\",binomial_confidence_interval[0])\n",
    "print(\"Group 2 (pink):\",binomial_confidence_interval[1])\n",
    "print(\"----------------------------------------------------\")\n",
    "print('\\033[1m'+\"Difference in means results:\\n\"+\"\\033[0;0m\")\n",
    "print(\"Effect size:\",power_analysis.get_cohend_effectsize(group_1_means,\n",
    "                                                         group_2_means))\n",
    "print(\"\\n\")\n",
    "print(\"T-test:\\n\")\n",
    "responder_utils.t_test(group_1_means,\n",
    "                      group_2_means,\n",
    "                      0.05,\n",
    "                      display=True)\n",
    "print(\"Mann whitney test: \",stats.mannwhitneyu(group_1_means,group_2_means))\n",
    "responder_utils.randomization_test(group_1_means, group_2_means, \n",
    "                   10000, 0.05,False)"
   ]
  },
  {
   "cell_type": "code",
   "execution_count": 16,
   "metadata": {},
   "outputs": [],
   "source": [
    "# colors for weekly plot\n",
    "group_1_color='black'\n",
    "group_2_color='#FFCBA4'\n",
    "group_one_name='Black'\n",
    "group_two_name='Peach'"
   ]
  },
  {
   "cell_type": "markdown",
   "metadata": {},
   "source": [
    "## Weekly confidence interval plot"
   ]
  },
  {
   "cell_type": "code",
   "execution_count": 17,
   "metadata": {},
   "outputs": [
    {
     "data": {
      "image/png": "[encoded data removed]",
      "text/plain": [
       "<Figure size 1000x500 with 1 Axes>"
      ]
     },
     "metadata": {},
     "output_type": "display_data"
    }
   ],
   "source": [
    "responder_utils.weekly_confidence_interval_plot(daily_success_matrix,\n",
    "                                    weekly_success_matrix,\n",
    "                                    group_1_names, group_2_names,\n",
    "                                    'decrease',\n",
    "                                    success_percent,\n",
    "                                    significance_level,\n",
    "                                    no_of_weeks,\n",
    "                                    group_1_color, group_2_color,\n",
    "                                    group_one_name, group_two_name)"
   ]
  }
 ],
 "metadata": {
  "environment": {
   "kernel": "hillsadvancedml_envi",
   "name": "common-cpu.m107",
   "type": "gcloud",
   "uri": "gcr.io/deeplearning-platform-release/base-cpu:m107"
  },
  "kernelspec": {
   "display_name": "Hills Advanced ML Envi",
   "language": "python",
   "name": "hillsadvancedml_envi"
  },
  "language_info": {
   "codemirror_mode": {
    "name": "ipython",
    "version": 3
   },
   "file_extension": ".py",
   "mimetype": "text/x-python",
   "name": "python",
   "nbconvert_exporter": "python",
   "pygments_lexer": "ipython3",
   "version": "3.7.9"
  },
  "toc": {
   "base_numbering": 1,
   "nav_menu": {},
   "number_sections": true,
   "sideBar": true,
   "skip_h1_title": false,
   "title_cell": "Table of Contents",
   "title_sidebar": "Contents",
   "toc_cell": false,
   "toc_position": {},
   "toc_section_display": true,
   "toc_window_display": true
  }
 },
 "nbformat": 4,
 "nbformat_minor": 4
}
